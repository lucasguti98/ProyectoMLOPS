{
 "cells": [
  {
   "cell_type": "code",
   "execution_count": 75,
   "id": "318c03b7-d94e-43b0-aac3-48576e601b37",
   "metadata": {
    "tags": []
   },
   "outputs": [],
   "source": [
    "import pandas as pd"
   ]
  },
  {
   "cell_type": "code",
   "execution_count": 76,
   "id": "3a4de142-e00d-411d-843b-0723f211d02c",
   "metadata": {
    "tags": []
   },
   "outputs": [],
   "source": [
    "df = pd.read_csv('user_reviews.csv')"
   ]
  },
  {
   "cell_type": "code",
   "execution_count": 77,
   "id": "0e85558d-acf6-49dc-9f42-1366a2a5cdfa",
   "metadata": {
    "tags": []
   },
   "outputs": [
    {
     "data": {
      "text/html": [
       "<div>\n",
       "<style scoped>\n",
       "    .dataframe tbody tr th:only-of-type {\n",
       "        vertical-align: middle;\n",
       "    }\n",
       "\n",
       "    .dataframe tbody tr th {\n",
       "        vertical-align: top;\n",
       "    }\n",
       "\n",
       "    .dataframe thead th {\n",
       "        text-align: right;\n",
       "    }\n",
       "</style>\n",
       "<table border=\"1\" class=\"dataframe\">\n",
       "  <thead>\n",
       "    <tr style=\"text-align: right;\">\n",
       "      <th></th>\n",
       "      <th>Unnamed: 0</th>\n",
       "      <th>user_id</th>\n",
       "      <th>user_url</th>\n",
       "      <th>reviews</th>\n",
       "    </tr>\n",
       "  </thead>\n",
       "  <tbody>\n",
       "    <tr>\n",
       "      <th>0</th>\n",
       "      <td>0</td>\n",
       "      <td>76561197970982479</td>\n",
       "      <td>http://steamcommunity.com/profiles/76561197970...</td>\n",
       "      <td>[{'funny': '', 'posted': 'Posted November 5, 2...</td>\n",
       "    </tr>\n",
       "    <tr>\n",
       "      <th>1</th>\n",
       "      <td>1</td>\n",
       "      <td>js41637</td>\n",
       "      <td>http://steamcommunity.com/id/js41637</td>\n",
       "      <td>[{'funny': '', 'posted': 'Posted June 24, 2014...</td>\n",
       "    </tr>\n",
       "    <tr>\n",
       "      <th>2</th>\n",
       "      <td>2</td>\n",
       "      <td>evcentric</td>\n",
       "      <td>http://steamcommunity.com/id/evcentric</td>\n",
       "      <td>[{'funny': '', 'posted': 'Posted February 3.',...</td>\n",
       "    </tr>\n",
       "    <tr>\n",
       "      <th>3</th>\n",
       "      <td>3</td>\n",
       "      <td>doctr</td>\n",
       "      <td>http://steamcommunity.com/id/doctr</td>\n",
       "      <td>[{'funny': '', 'posted': 'Posted October 14, 2...</td>\n",
       "    </tr>\n",
       "    <tr>\n",
       "      <th>4</th>\n",
       "      <td>4</td>\n",
       "      <td>maplemage</td>\n",
       "      <td>http://steamcommunity.com/id/maplemage</td>\n",
       "      <td>[{'funny': '3 people found this review funny',...</td>\n",
       "    </tr>\n",
       "  </tbody>\n",
       "</table>\n",
       "</div>"
      ],
      "text/plain": [
       "   Unnamed: 0            user_id   \n",
       "0           0  76561197970982479  \\\n",
       "1           1            js41637   \n",
       "2           2          evcentric   \n",
       "3           3              doctr   \n",
       "4           4          maplemage   \n",
       "\n",
       "                                            user_url   \n",
       "0  http://steamcommunity.com/profiles/76561197970...  \\\n",
       "1               http://steamcommunity.com/id/js41637   \n",
       "2             http://steamcommunity.com/id/evcentric   \n",
       "3                 http://steamcommunity.com/id/doctr   \n",
       "4             http://steamcommunity.com/id/maplemage   \n",
       "\n",
       "                                             reviews  \n",
       "0  [{'funny': '', 'posted': 'Posted November 5, 2...  \n",
       "1  [{'funny': '', 'posted': 'Posted June 24, 2014...  \n",
       "2  [{'funny': '', 'posted': 'Posted February 3.',...  \n",
       "3  [{'funny': '', 'posted': 'Posted October 14, 2...  \n",
       "4  [{'funny': '3 people found this review funny',...  "
      ]
     },
     "execution_count": 77,
     "metadata": {},
     "output_type": "execute_result"
    }
   ],
   "source": [
    "df.head()"
   ]
  },
  {
   "cell_type": "code",
   "execution_count": 4,
   "id": "20efaed9-22b1-42b5-87e0-d0cb3d10a73c",
   "metadata": {
    "tags": []
   },
   "outputs": [],
   "source": [
    "df = df.drop(columns=\"Unnamed: 0\")"
   ]
  },
  {
   "cell_type": "code",
   "execution_count": 10,
   "id": "f29963d0",
   "metadata": {},
   "outputs": [
    {
     "data": {
      "text/plain": [
       "(25799, 4)"
      ]
     },
     "execution_count": 10,
     "metadata": {},
     "output_type": "execute_result"
    }
   ],
   "source": [
    "df.shape"
   ]
  },
  {
   "cell_type": "code",
   "execution_count": 79,
   "id": "0ec1b8db",
   "metadata": {},
   "outputs": [],
   "source": [
    "import ast\n",
    "def parse_review(reviews):\n",
    "        return ast.literal_eval(reviews)\n",
    "    \n",
    "df['reviews'] = df['reviews'].apply(parse_review)"
   ]
  },
  {
   "cell_type": "code",
   "execution_count": 80,
   "id": "074e270a",
   "metadata": {},
   "outputs": [
    {
     "data": {
      "text/plain": [
       "[{'funny': '',\n",
       "  'posted': 'Posted June 24, 2014.',\n",
       "  'last_edited': '',\n",
       "  'item_id': '251610',\n",
       "  'helpful': '15 of 20 people (75%) found this review helpful',\n",
       "  'recommend': True,\n",
       "  'review': 'I know what you think when you see this title \"Barbie Dreamhouse Party\" but do not be intimidated by it\\'s title, this is easily one of my GOTYs. You don\\'t get any of that cliche game mechanics that all the latest games have, this is simply good core gameplay. Yes, you can\\'t 360 noscope your friends, but what you can do is show them up with your bad ♥♥♥ dance moves and put them to shame as you show them what true fashion and color combinations are.I know this game says for kids but, this is easily for any age range and any age will have a blast playing this.8/8'},\n",
       " {'funny': '',\n",
       "  'posted': 'Posted September 8, 2013.',\n",
       "  'last_edited': '',\n",
       "  'item_id': '227300',\n",
       "  'helpful': '0 of 1 people (0%) found this review helpful',\n",
       "  'recommend': True,\n",
       "  'review': \"For a simple (it's actually not all that simple but it can be!) truck driving Simulator, it is quite a fun and relaxing game. Playing on simple (or easy?) its just the basic WASD keys for driving but (if you want) the game can be much harder and realistic with having to manually change gears, much harder turning, etc. And reversing in this game is a ♥♥♥♥♥, as I imagine it would be with an actual truck. Luckily, you don't have to reverse park it but you get extra points if you do cause it is bloody hard. But this is suprisingly a nice truck driving game and I had a bit of fun with it.\"},\n",
       " {'funny': '',\n",
       "  'posted': 'Posted November 29, 2013.',\n",
       "  'last_edited': '',\n",
       "  'item_id': '239030',\n",
       "  'helpful': '1 of 4 people (25%) found this review helpful',\n",
       "  'recommend': True,\n",
       "  'review': 'Very fun little game to play when your bored or as a time passer. Very gud. Do Recommend. pls buy'}]"
      ]
     },
     "execution_count": 80,
     "metadata": {},
     "output_type": "execute_result"
    }
   ],
   "source": [
    "df['reviews'][1]"
   ]
  },
  {
   "cell_type": "markdown",
   "id": "25f1d79b",
   "metadata": {},
   "source": [
    "# Endpoints"
   ]
  },
  {
   "cell_type": "markdown",
   "id": "f6f5687f",
   "metadata": {},
   "source": [
    "* Endpoint 1: def userdata( User_id : str ): Debe devolver cantidad de dinero gastado por el usuario, el porcentaje de recomendación en base a reviews.recommend y cantidad de items."
   ]
  },
  {
   "cell_type": "markdown",
   "id": "7d6cc76f",
   "metadata": {},
   "source": [
    "#### Calculo el porcentaje de recomendación en base a reviews.recommend"
   ]
  },
  {
   "cell_type": "code",
   "execution_count": 9,
   "id": "d3a39167",
   "metadata": {},
   "outputs": [
    {
     "name": "stdout",
     "output_type": "stream",
     "text": [
      "       porcentaje_recomendacion\n",
      "0                      0.000000\n",
      "1                     64.000000\n",
      "2                      0.000000\n",
      "3                     83.333333\n",
      "4                     81.250000\n",
      "...                         ...\n",
      "25794                  0.000000\n",
      "25795                  0.000000\n",
      "25796                100.000000\n",
      "25797                  0.000000\n",
      "25798                 50.000000\n",
      "\n",
      "[25799 rows x 1 columns]\n"
     ]
    }
   ],
   "source": [
    "import re\n",
    "def calculate_recommendation_percentage(review_list):\n",
    "    total_helpful = 0\n",
    "    total_count = 0\n",
    "\n",
    "    for review_dict in review_list:\n",
    "        helpful = review_dict.get('helpful', '')\n",
    "        match = re.search(r'(\\d+) of (\\d+) people', helpful)\n",
    "        if match:\n",
    "            helpful_count = int(match.group(1))\n",
    "            total_count += int(match.group(2))\n",
    "            total_helpful += helpful_count\n",
    "            \n",
    "    if total_count > 0:\n",
    "        return (total_helpful / total_count) * 100\n",
    "    else:\n",
    "        return 0\n",
    "\n",
    "df['porcentaje_recomendacion'] = df['reviews'].apply(calculate_recommendation_percentage)\n"
   ]
  },
  {
   "cell_type": "code",
   "execution_count": 11,
   "id": "cb23db00",
   "metadata": {},
   "outputs": [
    {
     "data": {
      "text/html": [
       "<div>\n",
       "<style scoped>\n",
       "    .dataframe tbody tr th:only-of-type {\n",
       "        vertical-align: middle;\n",
       "    }\n",
       "\n",
       "    .dataframe tbody tr th {\n",
       "        vertical-align: top;\n",
       "    }\n",
       "\n",
       "    .dataframe thead th {\n",
       "        text-align: right;\n",
       "    }\n",
       "</style>\n",
       "<table border=\"1\" class=\"dataframe\">\n",
       "  <thead>\n",
       "    <tr style=\"text-align: right;\">\n",
       "      <th></th>\n",
       "      <th>user_id</th>\n",
       "      <th>user_url</th>\n",
       "      <th>reviews</th>\n",
       "      <th>porcentaje_recomendacion</th>\n",
       "    </tr>\n",
       "  </thead>\n",
       "  <tbody>\n",
       "    <tr>\n",
       "      <th>0</th>\n",
       "      <td>76561197970982479</td>\n",
       "      <td>http://steamcommunity.com/profiles/76561197970...</td>\n",
       "      <td>[{'funny': '', 'posted': 'Posted November 5, 2...</td>\n",
       "      <td>0.000000</td>\n",
       "    </tr>\n",
       "    <tr>\n",
       "      <th>1</th>\n",
       "      <td>js41637</td>\n",
       "      <td>http://steamcommunity.com/id/js41637</td>\n",
       "      <td>[{'funny': '', 'posted': 'Posted June 24, 2014...</td>\n",
       "      <td>64.000000</td>\n",
       "    </tr>\n",
       "    <tr>\n",
       "      <th>2</th>\n",
       "      <td>evcentric</td>\n",
       "      <td>http://steamcommunity.com/id/evcentric</td>\n",
       "      <td>[{'funny': '', 'posted': 'Posted February 3.',...</td>\n",
       "      <td>0.000000</td>\n",
       "    </tr>\n",
       "    <tr>\n",
       "      <th>3</th>\n",
       "      <td>doctr</td>\n",
       "      <td>http://steamcommunity.com/id/doctr</td>\n",
       "      <td>[{'funny': '', 'posted': 'Posted October 14, 2...</td>\n",
       "      <td>83.333333</td>\n",
       "    </tr>\n",
       "    <tr>\n",
       "      <th>4</th>\n",
       "      <td>maplemage</td>\n",
       "      <td>http://steamcommunity.com/id/maplemage</td>\n",
       "      <td>[{'funny': '3 people found this review funny',...</td>\n",
       "      <td>81.250000</td>\n",
       "    </tr>\n",
       "  </tbody>\n",
       "</table>\n",
       "</div>"
      ],
      "text/plain": [
       "             user_id                                           user_url   \n",
       "0  76561197970982479  http://steamcommunity.com/profiles/76561197970...  \\\n",
       "1            js41637               http://steamcommunity.com/id/js41637   \n",
       "2          evcentric             http://steamcommunity.com/id/evcentric   \n",
       "3              doctr                 http://steamcommunity.com/id/doctr   \n",
       "4          maplemage             http://steamcommunity.com/id/maplemage   \n",
       "\n",
       "                                             reviews  porcentaje_recomendacion  \n",
       "0  [{'funny': '', 'posted': 'Posted November 5, 2...                  0.000000  \n",
       "1  [{'funny': '', 'posted': 'Posted June 24, 2014...                 64.000000  \n",
       "2  [{'funny': '', 'posted': 'Posted February 3.',...                  0.000000  \n",
       "3  [{'funny': '', 'posted': 'Posted October 14, 2...                 83.333333  \n",
       "4  [{'funny': '3 people found this review funny',...                 81.250000  "
      ]
     },
     "execution_count": 11,
     "metadata": {},
     "output_type": "execute_result"
    }
   ],
   "source": [
    "df.head()"
   ]
  },
  {
   "cell_type": "code",
   "execution_count": 13,
   "id": "82f1f61a",
   "metadata": {},
   "outputs": [],
   "source": [
    "df['porcentaje_recomendacion'] = df['porcentaje_recomendacion'].apply(lambda x: str(round(x)) + '%')"
   ]
  },
  {
   "cell_type": "code",
   "execution_count": 12,
   "id": "12fc8aa7",
   "metadata": {},
   "outputs": [],
   "source": [
    "df_endpoint1 = pd.read_csv(\"df_endpoint1.csv\")"
   ]
  },
  {
   "cell_type": "code",
   "execution_count": 15,
   "id": "f17df537",
   "metadata": {},
   "outputs": [],
   "source": [
    "df_endpoint1['porcentaje_recomendacion'] = df['porcentaje_recomendacion']"
   ]
  },
  {
   "cell_type": "code",
   "execution_count": 16,
   "id": "164cf0dc",
   "metadata": {},
   "outputs": [
    {
     "data": {
      "text/html": [
       "<div>\n",
       "<style scoped>\n",
       "    .dataframe tbody tr th:only-of-type {\n",
       "        vertical-align: middle;\n",
       "    }\n",
       "\n",
       "    .dataframe tbody tr th {\n",
       "        vertical-align: top;\n",
       "    }\n",
       "\n",
       "    .dataframe thead th {\n",
       "        text-align: right;\n",
       "    }\n",
       "</style>\n",
       "<table border=\"1\" class=\"dataframe\">\n",
       "  <thead>\n",
       "    <tr style=\"text-align: right;\">\n",
       "      <th></th>\n",
       "      <th>user_id</th>\n",
       "      <th>items_count</th>\n",
       "      <th>gasto_total</th>\n",
       "      <th>porcentaje_recomendacion</th>\n",
       "    </tr>\n",
       "  </thead>\n",
       "  <tbody>\n",
       "    <tr>\n",
       "      <th>0</th>\n",
       "      <td>76561197970982479</td>\n",
       "      <td>277</td>\n",
       "      <td>3419.32</td>\n",
       "      <td>0%</td>\n",
       "    </tr>\n",
       "    <tr>\n",
       "      <th>1</th>\n",
       "      <td>js41637</td>\n",
       "      <td>888</td>\n",
       "      <td>8394.37</td>\n",
       "      <td>64%</td>\n",
       "    </tr>\n",
       "    <tr>\n",
       "      <th>2</th>\n",
       "      <td>evcentric</td>\n",
       "      <td>137</td>\n",
       "      <td>1584.90</td>\n",
       "      <td>0%</td>\n",
       "    </tr>\n",
       "    <tr>\n",
       "      <th>3</th>\n",
       "      <td>Riot-Punch</td>\n",
       "      <td>328</td>\n",
       "      <td>3284.47</td>\n",
       "      <td>83%</td>\n",
       "    </tr>\n",
       "    <tr>\n",
       "      <th>4</th>\n",
       "      <td>doctr</td>\n",
       "      <td>541</td>\n",
       "      <td>6660.58</td>\n",
       "      <td>81%</td>\n",
       "    </tr>\n",
       "  </tbody>\n",
       "</table>\n",
       "</div>"
      ],
      "text/plain": [
       "             user_id  items_count  gasto_total porcentaje_recomendacion\n",
       "0  76561197970982479          277      3419.32                       0%\n",
       "1            js41637          888      8394.37                      64%\n",
       "2          evcentric          137      1584.90                       0%\n",
       "3         Riot-Punch          328      3284.47                      83%\n",
       "4              doctr          541      6660.58                      81%"
      ]
     },
     "execution_count": 16,
     "metadata": {},
     "output_type": "execute_result"
    }
   ],
   "source": [
    "df_endpoint1.head()"
   ]
  },
  {
   "cell_type": "code",
   "execution_count": 17,
   "id": "62ba1c1c",
   "metadata": {},
   "outputs": [],
   "source": [
    "nuevo_orden = ['user_id', 'gasto_total', 'porcentaje_recomendacion', 'items_count']\n",
    "df_endpoint1 = df_endpoint1[nuevo_orden]"
   ]
  },
  {
   "cell_type": "code",
   "execution_count": 18,
   "id": "4044ab20",
   "metadata": {},
   "outputs": [
    {
     "data": {
      "text/html": [
       "<div>\n",
       "<style scoped>\n",
       "    .dataframe tbody tr th:only-of-type {\n",
       "        vertical-align: middle;\n",
       "    }\n",
       "\n",
       "    .dataframe tbody tr th {\n",
       "        vertical-align: top;\n",
       "    }\n",
       "\n",
       "    .dataframe thead th {\n",
       "        text-align: right;\n",
       "    }\n",
       "</style>\n",
       "<table border=\"1\" class=\"dataframe\">\n",
       "  <thead>\n",
       "    <tr style=\"text-align: right;\">\n",
       "      <th></th>\n",
       "      <th>user_id</th>\n",
       "      <th>gasto_total</th>\n",
       "      <th>porcentaje_recomendacion</th>\n",
       "      <th>items_count</th>\n",
       "    </tr>\n",
       "  </thead>\n",
       "  <tbody>\n",
       "    <tr>\n",
       "      <th>0</th>\n",
       "      <td>76561197970982479</td>\n",
       "      <td>3419.32</td>\n",
       "      <td>0%</td>\n",
       "      <td>277</td>\n",
       "    </tr>\n",
       "    <tr>\n",
       "      <th>1</th>\n",
       "      <td>js41637</td>\n",
       "      <td>8394.37</td>\n",
       "      <td>64%</td>\n",
       "      <td>888</td>\n",
       "    </tr>\n",
       "    <tr>\n",
       "      <th>2</th>\n",
       "      <td>evcentric</td>\n",
       "      <td>1584.90</td>\n",
       "      <td>0%</td>\n",
       "      <td>137</td>\n",
       "    </tr>\n",
       "    <tr>\n",
       "      <th>3</th>\n",
       "      <td>Riot-Punch</td>\n",
       "      <td>3284.47</td>\n",
       "      <td>83%</td>\n",
       "      <td>328</td>\n",
       "    </tr>\n",
       "    <tr>\n",
       "      <th>4</th>\n",
       "      <td>doctr</td>\n",
       "      <td>6660.58</td>\n",
       "      <td>81%</td>\n",
       "      <td>541</td>\n",
       "    </tr>\n",
       "  </tbody>\n",
       "</table>\n",
       "</div>"
      ],
      "text/plain": [
       "             user_id  gasto_total porcentaje_recomendacion  items_count\n",
       "0  76561197970982479      3419.32                       0%          277\n",
       "1            js41637      8394.37                      64%          888\n",
       "2          evcentric      1584.90                       0%          137\n",
       "3         Riot-Punch      3284.47                      83%          328\n",
       "4              doctr      6660.58                      81%          541"
      ]
     },
     "execution_count": 18,
     "metadata": {},
     "output_type": "execute_result"
    }
   ],
   "source": [
    "df_endpoint1.head()"
   ]
  },
  {
   "cell_type": "code",
   "execution_count": 19,
   "id": "9544e557",
   "metadata": {},
   "outputs": [],
   "source": [
    "df_endpoint1.to_csv(\"df_endpoint1.csv\", index=False)"
   ]
  },
  {
   "cell_type": "markdown",
   "id": "8530bbb1",
   "metadata": {},
   "source": [
    "#### Endpoint sentiment analysis"
   ]
  },
  {
   "cell_type": "markdown",
   "id": "0a628156",
   "metadata": {},
   "source": [
    "* def sentiment_analysis( año : int ): Según el año de lanzamiento, se devuelve una lista con la cantidad de registros de reseñas de usuarios que se encuentren categorizados con un análisis de sentimiento."
   ]
  },
  {
   "cell_type": "markdown",
   "id": "a2fff903",
   "metadata": {},
   "source": [
    "Feature Engineering: En el dataset user_reviews se incluyen reseñas de juegos hechos por distintos usuarios. Debes crear la columna 'sentiment_analysis' aplicando análisis de sentimiento con NLP con la siguiente escala: debe tomar el valor '0' si es malo, '1' si es neutral y '2' si es positivo. Esta nueva columna debe reemplazar la de user_reviews.review para facilitar el trabajo de los modelos de machine learning y el análisis de datos. De no ser posible este análisis por estar ausente la reseña escrita, debe tomar el valor de 1."
   ]
  },
  {
   "cell_type": "code",
   "execution_count": 91,
   "id": "a8c31f0b",
   "metadata": {},
   "outputs": [
    {
     "data": {
      "text/plain": [
       "[{'funny': '3 people found this review funny',\n",
       "  'posted': 'Posted April 15, 2014.',\n",
       "  'last_edited': '',\n",
       "  'item_id': '211420',\n",
       "  'helpful': '35 of 43 people (81%) found this review helpful',\n",
       "  'recommend': True,\n",
       "  'review': 'Git gud'},\n",
       " {'funny': '1 person found this review funny',\n",
       "  'posted': 'Posted December 23, 2013.',\n",
       "  'last_edited': '',\n",
       "  'item_id': '211820',\n",
       "  'helpful': '12 of 16 people (75%) found this review helpful',\n",
       "  'recommend': True,\n",
       "  'review': \"It's like Terraria, you play for 9 hours straight, get endgame armour then stop playing until the next update.\"},\n",
       " {'funny': '2 people found this review funny',\n",
       "  'posted': 'Posted March 14, 2014.',\n",
       "  'last_edited': '',\n",
       "  'item_id': '730',\n",
       "  'helpful': '5 of 5 people (100%) found this review helpful',\n",
       "  'recommend': True,\n",
       "  'review': 'Hold shift to win, Hold CTRL to lose.'},\n",
       " {'funny': '',\n",
       "  'posted': 'Posted July 11, 2013.',\n",
       "  'last_edited': '',\n",
       "  'item_id': '204300',\n",
       "  'helpful': 'No ratings yet',\n",
       "  'recommend': True,\n",
       "  'review': \"OH YES, THIS GAME IS THE BEST, THEY ADD STUFF LIKE NEW CHARACTERS, AND LIKE A NEW MAP ONCE A YEAR, IT'S SO AWESOME, OH YES, IT'S SO AWESOMENAUTS, YES, YES, I'M GOOD AT THIS, YES, YES, GOOD, I'M GOOD, YES, GOOD, YOU ARE BAD, IM GOOD, YES, TOO GOOD, YES, IM NOT BAD, YES, GOOD.\"}]"
      ]
     },
     "execution_count": 91,
     "metadata": {},
     "output_type": "execute_result"
    }
   ],
   "source": [
    "df[\"reviews\"][4]"
   ]
  },
  {
   "cell_type": "code",
   "execution_count": 81,
   "id": "2167e551",
   "metadata": {},
   "outputs": [],
   "source": [
    "df_reviews = pd.DataFrame(df[\"reviews\"])"
   ]
  },
  {
   "cell_type": "code",
   "execution_count": 82,
   "id": "bba9465c",
   "metadata": {},
   "outputs": [],
   "source": [
    "from textblob import TextBlob\n",
    "def analyze_sentiment(reviews_list):\n",
    "    sentiments = []\n",
    "    for review_dict in reviews_list:\n",
    "        analysis = TextBlob(review_dict['review'])\n",
    "        polarity = analysis.sentiment.polarity\n",
    "        if polarity < 0:\n",
    "            sentiments.append(0) \n",
    "        elif polarity == 0:\n",
    "            sentiments.append(1)  \n",
    "        else:\n",
    "            sentiments.append(2) \n",
    "    return sentiments"
   ]
  },
  {
   "cell_type": "code",
   "execution_count": 83,
   "id": "7285aa89",
   "metadata": {},
   "outputs": [],
   "source": [
    "df_reviews['sentiment_analysis'] = df_reviews['reviews'].apply(analyze_sentiment)"
   ]
  },
  {
   "cell_type": "code",
   "execution_count": 87,
   "id": "922f0426",
   "metadata": {},
   "outputs": [
    {
     "data": {
      "text/plain": [
       "reviews               [{'funny': '', 'posted': 'Posted June 24, 2014...\n",
       "sentiment_analysis                                            [2, 0, 0]\n",
       "Name: 1, dtype: object"
      ]
     },
     "execution_count": 87,
     "metadata": {},
     "output_type": "execute_result"
    }
   ],
   "source": [
    "df_reviews.iloc[1]"
   ]
  },
  {
   "cell_type": "code",
   "execution_count": 201,
   "id": "003e572a",
   "metadata": {},
   "outputs": [
    {
     "data": {
      "text/plain": [
       "[{'funny': '',\n",
       "  'posted': 'Posted January 6, 2015.',\n",
       "  'last_edited': '',\n",
       "  'item_id': '213670',\n",
       "  'helpful': 'No ratings yet',\n",
       "  'recommend': True,\n",
       "  'review': 'My character is a Jew named ♥♥♥♥♥♥♥♥♥ that is wearing a KKK costume.10/10, IGN'}]"
      ]
     },
     "execution_count": 201,
     "metadata": {},
     "output_type": "execute_result"
    }
   ],
   "source": [
    "df_reviews[\"reviews\"][37]"
   ]
  },
  {
   "cell_type": "code",
   "execution_count": 103,
   "id": "a939088d",
   "metadata": {},
   "outputs": [],
   "source": [
    "import re\n",
    "def sentiment_analysis(year):\n",
    "    df_filtered = df_reviews[df_reviews['reviews'].apply(lambda x: isinstance(x, list) and len(x) > 0)]\n",
    "\n",
    "    pattern = r'Posted (\\w+ \\d{1,2}, \\d{4}).'\n",
    "    def extract_year(review):\n",
    "        match = re.search(pattern, review[0]['posted'])\n",
    "        if match:\n",
    "            return int(match.group(1).split()[-1])\n",
    "        else:\n",
    "            return None\n",
    "\n",
    "    df_filtered['posted_year'] = df_filtered['reviews'].apply(extract_year)\n",
    "\n",
    "    filtered_reviews = df_filtered[df_filtered['posted_year'] == year]\n",
    "\n",
    "    sentiment_counts = filtered_reviews['sentiment_analysis'].explode().value_counts().to_dict()\n",
    "\n",
    "    sentiment_labels = {0: 'Negative', 1: 'Neutral', 2: 'Positive'}\n",
    "    sentiment_counts = {sentiment_labels[key]: value for key, value in sentiment_counts.items()}\n",
    "\n",
    "    return sentiment_counts"
   ]
  },
  {
   "cell_type": "code",
   "execution_count": 110,
   "id": "e1fee7c6",
   "metadata": {},
   "outputs": [
    {
     "name": "stderr",
     "output_type": "stream",
     "text": [
      "C:\\Users\\jazmin\\AppData\\Local\\Temp\\ipykernel_14092\\779080910.py:15: SettingWithCopyWarning: \n",
      "A value is trying to be set on a copy of a slice from a DataFrame.\n",
      "Try using .loc[row_indexer,col_indexer] = value instead\n",
      "\n",
      "See the caveats in the documentation: https://pandas.pydata.org/pandas-docs/stable/user_guide/indexing.html#returning-a-view-versus-a-copy\n",
      "  df_filtered['posted_year'] = df_filtered['reviews'].apply(extract_year)\n",
      "C:\\Users\\jazmin\\AppData\\Local\\Temp\\ipykernel_14092\\779080910.py:15: SettingWithCopyWarning: \n",
      "A value is trying to be set on a copy of a slice from a DataFrame.\n",
      "Try using .loc[row_indexer,col_indexer] = value instead\n",
      "\n",
      "See the caveats in the documentation: https://pandas.pydata.org/pandas-docs/stable/user_guide/indexing.html#returning-a-view-versus-a-copy\n",
      "  df_filtered['posted_year'] = df_filtered['reviews'].apply(extract_year)\n",
      "C:\\Users\\jazmin\\AppData\\Local\\Temp\\ipykernel_14092\\779080910.py:15: SettingWithCopyWarning: \n",
      "A value is trying to be set on a copy of a slice from a DataFrame.\n",
      "Try using .loc[row_indexer,col_indexer] = value instead\n",
      "\n",
      "See the caveats in the documentation: https://pandas.pydata.org/pandas-docs/stable/user_guide/indexing.html#returning-a-view-versus-a-copy\n",
      "  df_filtered['posted_year'] = df_filtered['reviews'].apply(extract_year)\n",
      "C:\\Users\\jazmin\\AppData\\Local\\Temp\\ipykernel_14092\\779080910.py:15: SettingWithCopyWarning: \n",
      "A value is trying to be set on a copy of a slice from a DataFrame.\n",
      "Try using .loc[row_indexer,col_indexer] = value instead\n",
      "\n",
      "See the caveats in the documentation: https://pandas.pydata.org/pandas-docs/stable/user_guide/indexing.html#returning-a-view-versus-a-copy\n",
      "  df_filtered['posted_year'] = df_filtered['reviews'].apply(extract_year)\n",
      "C:\\Users\\jazmin\\AppData\\Local\\Temp\\ipykernel_14092\\779080910.py:15: SettingWithCopyWarning: \n",
      "A value is trying to be set on a copy of a slice from a DataFrame.\n",
      "Try using .loc[row_indexer,col_indexer] = value instead\n",
      "\n",
      "See the caveats in the documentation: https://pandas.pydata.org/pandas-docs/stable/user_guide/indexing.html#returning-a-view-versus-a-copy\n",
      "  df_filtered['posted_year'] = df_filtered['reviews'].apply(extract_year)\n",
      "C:\\Users\\jazmin\\AppData\\Local\\Temp\\ipykernel_14092\\779080910.py:15: SettingWithCopyWarning: \n",
      "A value is trying to be set on a copy of a slice from a DataFrame.\n",
      "Try using .loc[row_indexer,col_indexer] = value instead\n",
      "\n",
      "See the caveats in the documentation: https://pandas.pydata.org/pandas-docs/stable/user_guide/indexing.html#returning-a-view-versus-a-copy\n",
      "  df_filtered['posted_year'] = df_filtered['reviews'].apply(extract_year)\n",
      "C:\\Users\\jazmin\\AppData\\Local\\Temp\\ipykernel_14092\\779080910.py:15: SettingWithCopyWarning: \n",
      "A value is trying to be set on a copy of a slice from a DataFrame.\n",
      "Try using .loc[row_indexer,col_indexer] = value instead\n",
      "\n",
      "See the caveats in the documentation: https://pandas.pydata.org/pandas-docs/stable/user_guide/indexing.html#returning-a-view-versus-a-copy\n",
      "  df_filtered['posted_year'] = df_filtered['reviews'].apply(extract_year)\n"
     ]
    }
   ],
   "source": [
    "years_of_interest = list(range(2009, 2016))\n",
    "results_dict = {'Year': [], 'Sentiment Analysis': []}\n",
    "\n",
    "for year in years_of_interest:\n",
    "    sentiment_result = sentiment_analysis(year)\n",
    "    results_dict['Year'].append(year)\n",
    "    results_dict['Sentiment Analysis'].append(sentiment_result)\n",
    "\n",
    "results_df = pd.DataFrame(results_dict)"
   ]
  },
  {
   "cell_type": "code",
   "execution_count": 112,
   "id": "faafbb5b",
   "metadata": {},
   "outputs": [],
   "source": [
    "results_df.to_csv(\"df_endpoint6.csv\",index=False)"
   ]
  },
  {
   "cell_type": "code",
   "execution_count": 113,
   "id": "b1749f84",
   "metadata": {},
   "outputs": [
    {
     "data": {
      "text/html": [
       "<div>\n",
       "<style scoped>\n",
       "    .dataframe tbody tr th:only-of-type {\n",
       "        vertical-align: middle;\n",
       "    }\n",
       "\n",
       "    .dataframe tbody tr th {\n",
       "        vertical-align: top;\n",
       "    }\n",
       "\n",
       "    .dataframe thead th {\n",
       "        text-align: right;\n",
       "    }\n",
       "</style>\n",
       "<table border=\"1\" class=\"dataframe\">\n",
       "  <thead>\n",
       "    <tr style=\"text-align: right;\">\n",
       "      <th></th>\n",
       "      <th>Year</th>\n",
       "      <th>Sentiment Analysis</th>\n",
       "    </tr>\n",
       "  </thead>\n",
       "  <tbody>\n",
       "    <tr>\n",
       "      <th>0</th>\n",
       "      <td>2009</td>\n",
       "      <td>{}</td>\n",
       "    </tr>\n",
       "    <tr>\n",
       "      <th>1</th>\n",
       "      <td>2010</td>\n",
       "      <td>{'Positive': 15, 'Negative': 5, 'Neutral': 1}</td>\n",
       "    </tr>\n",
       "    <tr>\n",
       "      <th>2</th>\n",
       "      <td>2011</td>\n",
       "      <td>{'Positive': 164, 'Negative': 50, 'Neutral': 35}</td>\n",
       "    </tr>\n",
       "    <tr>\n",
       "      <th>3</th>\n",
       "      <td>2012</td>\n",
       "      <td>{'Positive': 423, 'Negative': 119, 'Neutral': 80}</td>\n",
       "    </tr>\n",
       "    <tr>\n",
       "      <th>4</th>\n",
       "      <td>2013</td>\n",
       "      <td>{'Positive': 3198, 'Neutral': 1149, 'Negative'...</td>\n",
       "    </tr>\n",
       "    <tr>\n",
       "      <th>5</th>\n",
       "      <td>2014</td>\n",
       "      <td>{'Positive': 12493, 'Neutral': 4701, 'Negative...</td>\n",
       "    </tr>\n",
       "    <tr>\n",
       "      <th>6</th>\n",
       "      <td>2015</td>\n",
       "      <td>{'Positive': 10757, 'Negative': 4426, 'Neutral...</td>\n",
       "    </tr>\n",
       "  </tbody>\n",
       "</table>\n",
       "</div>"
      ],
      "text/plain": [
       "   Year                                 Sentiment Analysis\n",
       "0  2009                                                 {}\n",
       "1  2010      {'Positive': 15, 'Negative': 5, 'Neutral': 1}\n",
       "2  2011   {'Positive': 164, 'Negative': 50, 'Neutral': 35}\n",
       "3  2012  {'Positive': 423, 'Negative': 119, 'Neutral': 80}\n",
       "4  2013  {'Positive': 3198, 'Neutral': 1149, 'Negative'...\n",
       "5  2014  {'Positive': 12493, 'Neutral': 4701, 'Negative...\n",
       "6  2015  {'Positive': 10757, 'Negative': 4426, 'Neutral..."
      ]
     },
     "execution_count": 113,
     "metadata": {},
     "output_type": "execute_result"
    }
   ],
   "source": [
    "results_df"
   ]
  },
  {
   "cell_type": "code",
   "execution_count": null,
   "id": "bc0e5de5",
   "metadata": {},
   "outputs": [],
   "source": []
  }
 ],
 "metadata": {
  "kernelspec": {
   "display_name": "Python 3 (ipykernel)",
   "language": "python",
   "name": "python3"
  },
  "language_info": {
   "codemirror_mode": {
    "name": "ipython",
    "version": 3
   },
   "file_extension": ".py",
   "mimetype": "text/x-python",
   "name": "python",
   "nbconvert_exporter": "python",
   "pygments_lexer": "ipython3",
   "version": "3.11.3"
  }
 },
 "nbformat": 4,
 "nbformat_minor": 5
}
