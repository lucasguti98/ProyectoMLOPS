{
 "cells": [
  {
   "cell_type": "code",
   "execution_count": 1,
   "id": "38fe1773",
   "metadata": {},
   "outputs": [],
   "source": [
    "import json\n",
    "import ast\n",
    "import pandas as pd"
   ]
  },
  {
   "cell_type": "code",
   "execution_count": 13,
   "id": "cf1d63d2-310f-4f2c-b884-0f530bbd4a10",
   "metadata": {
    "tags": []
   },
   "outputs": [],
   "source": [
    "fr=open(\"C:/Users/jazmin/AppData/Local/Programs/Python/Python311/Scripts/PIMLOPS/australian_user_reviews.json\", \"r\", encoding=\"utf-8\")\n",
    "fw=open(\"C:/Users/jazmin/AppData/Local/Programs/Python/Python311/Scripts/PIMLOPS/user_reviews.json\", \"w\")\n",
    "\n",
    "for line in fr:\n",
    "    json_dat = json.dumps(ast.literal_eval(line))\n",
    "    dict_dat = json.loads(json_dat)\n",
    "    json.dump(dict_dat, fw)\n",
    "    fw.write(\"\\n\")\n",
    "\n",
    "fw.close()\n",
    "fr.close()"
   ]
  },
  {
   "cell_type": "code",
   "execution_count": 14,
   "id": "dac7903d-b985-4bef-a94c-0be052f45043",
   "metadata": {},
   "outputs": [],
   "source": [
    "input_filename = \"user_reviews.json\"\n",
    "output_filename = \"user_reviews2.json\"\n",
    "\n",
    "with open(input_filename, \"r\") as fr, open(output_filename, \"w\") as fw:\n",
    "    for line in fr:\n",
    "        line = line.strip()\n",
    "        if line.endswith(\"\"):\n",
    "            fw.write(line + \",\\n\")\n",
    "        else:\n",
    "            fw.write(line + \"\\n\")"
   ]
  },
  {
   "cell_type": "code",
   "execution_count": 2,
   "id": "5d096308",
   "metadata": {},
   "outputs": [],
   "source": [
    "df = pd.read_json('user_reviews2.json')\n",
    "df.to_csv('user_reviews.csv')"
   ]
  },
  {
   "cell_type": "code",
   "execution_count": 4,
   "id": "6b0e6ad3-b3a0-40ba-9481-187f0c8dc21c",
   "metadata": {},
   "outputs": [],
   "source": [
    "fr=open(\"C:/Users/jazmin/AppData/Local/Programs/Python/Python311/Scripts/PIMLOPS/australian_users_items.json\", \"r\", encoding=\"utf-8\")\n",
    "fw=open(\"C:/Users/jazmin/AppData/Local/Programs/Python/Python311/Scripts/PIMLOPS/user_items.json\", \"w\")\n",
    "\n",
    "for line in fr:\n",
    "    json_dat = json.dumps(ast.literal_eval(line))\n",
    "    dict_dat = json.loads(json_dat)\n",
    "    json.dump(dict_dat, fw)\n",
    "    fw.write(\"\\n\")\n",
    "\n",
    "fw.close()\n",
    "fr.close()"
   ]
  },
  {
   "cell_type": "code",
   "execution_count": 1,
   "id": "281e9f47-0e2b-44d5-8f34-36465107233d",
   "metadata": {},
   "outputs": [],
   "source": [
    "input_filename = \"user_items.json\"\n",
    "output_filename = \"user_items2.json\"\n",
    "\n",
    "with open(input_filename, \"r\") as fr, open(output_filename, \"w\") as fw:\n",
    "    fw.write(\"[\\n\")\n",
    "    for line in fr:\n",
    "        line = line.strip()\n",
    "        if line.endswith(\",\"):\n",
    "            fw.write(line + \"\\n\")\n",
    "        else:\n",
    "            fw.write(line + \",\\n\")\n",
    "    fw.write(\"]\\n\")"
   ]
  },
  {
   "cell_type": "code",
   "execution_count": 2,
   "id": "dca43e60-f4d4-4f34-bf2d-d8f040d33578",
   "metadata": {},
   "outputs": [],
   "source": [
    "df = pd.read_json(\"user_items2.json\")\n",
    "df.to_csv(\"user_items.csv\")"
   ]
  },
  {
   "cell_type": "code",
   "execution_count": 9,
   "id": "c569cdbe",
   "metadata": {},
   "outputs": [],
   "source": [
    "input_filename = \"output_steam_games.json\"\n",
    "output_filename = \"steam_games.json\"\n",
    "\n",
    "with open(input_filename, \"r\", encoding=\"utf-8\") as fr, open(output_filename, \"w\") as fw:\n",
    "    for line in fr:\n",
    "        line = line.strip()\n",
    "        if line.endswith(\",\"):\n",
    "            fw.write(line + \"\\n\")\n",
    "        else:\n",
    "            fw.write(line + \",\\n\")"
   ]
  },
  {
   "cell_type": "code",
   "execution_count": 11,
   "id": "1b1c88a2",
   "metadata": {},
   "outputs": [],
   "source": [
    "input_file = \"steam_games.json\"\n",
    "output_file = \"steam_games2.json\"\n",
    "\n",
    "with open(input_file, \"r\") as fr, open(output_file, \"w\") as fw:\n",
    "    json_data = fr.read()\n",
    "    cleaned_data = json_data.replace(\"NaN\", \"null\")\n",
    "    fw.write(cleaned_data)"
   ]
  },
  {
   "cell_type": "code",
   "execution_count": 12,
   "id": "23279187",
   "metadata": {},
   "outputs": [],
   "source": [
    "df = pd.read_json(\"steam_games2.json\")\n",
    "df.to_csv(\"steam_games.csv\")"
   ]
  },
  {
   "cell_type": "code",
   "execution_count": null,
   "id": "ef6871bc",
   "metadata": {},
   "outputs": [],
   "source": []
  },
  {
   "cell_type": "code",
   "execution_count": 3,
   "id": "f2df1131",
   "metadata": {},
   "outputs": [
    {
     "name": "stdout",
     "output_type": "stream",
     "text": [
      "Unexpected exception formatting exception. Falling back to standard exception\n"
     ]
    },
    {
     "name": "stderr",
     "output_type": "stream",
     "text": [
      "Traceback (most recent call last):\n",
      "  File \"C:\\Users\\jazmin\\AppData\\Roaming\\Python\\Python311\\site-packages\\IPython\\core\\interactiveshell.py\", line 3505, in run_code\n",
      "    exec(code_obj, self.user_global_ns, self.user_ns)\n",
      "  File \"C:\\Users\\jazmin\\AppData\\Local\\Temp\\ipykernel_11152\\4094332056.py\", line 1, in <module>\n",
      "    df = df.read_csv(\"user_reviews.csv\")\n",
      "         ^^^^^^^^^^^\n",
      "  File \"C:\\Users\\jazmin\\AppData\\Local\\Programs\\Python\\Python311\\Lib\\site-packages\\pandas\\core\\generic.py\", line 5989, in __getattr__\n",
      "    return object.__getattribute__(self, name)\n",
      "           ^^^^^^^^^^^^^^^^^^^^^^^^^^^^^^^^^^^\n",
      "AttributeError: 'DataFrame' object has no attribute 'read_csv'\n",
      "\n",
      "During handling of the above exception, another exception occurred:\n",
      "\n",
      "Traceback (most recent call last):\n",
      "  File \"C:\\Users\\jazmin\\AppData\\Roaming\\Python\\Python311\\site-packages\\IPython\\core\\interactiveshell.py\", line 2102, in showtraceback\n",
      "    stb = self.InteractiveTB.structured_traceback(\n",
      "          ^^^^^^^^^^^^^^^^^^^^^^^^^^^^^^^^^^^^^^^^\n",
      "  File \"C:\\Users\\jazmin\\AppData\\Roaming\\Python\\Python311\\site-packages\\IPython\\core\\ultratb.py\", line 1310, in structured_traceback\n",
      "    return FormattedTB.structured_traceback(\n",
      "           ^^^^^^^^^^^^^^^^^^^^^^^^^^^^^^^^^\n",
      "  File \"C:\\Users\\jazmin\\AppData\\Roaming\\Python\\Python311\\site-packages\\IPython\\core\\ultratb.py\", line 1199, in structured_traceback\n",
      "    return VerboseTB.structured_traceback(\n",
      "           ^^^^^^^^^^^^^^^^^^^^^^^^^^^^^^^\n",
      "  File \"C:\\Users\\jazmin\\AppData\\Roaming\\Python\\Python311\\site-packages\\IPython\\core\\ultratb.py\", line 1052, in structured_traceback\n",
      "    formatted_exception = self.format_exception_as_a_whole(etype, evalue, etb, number_of_lines_of_context,\n",
      "                          ^^^^^^^^^^^^^^^^^^^^^^^^^^^^^^^^^^^^^^^^^^^^^^^^^^^^^^^^^^^^^^^^^^^^^^^^^^^^^^^^\n",
      "  File \"C:\\Users\\jazmin\\AppData\\Roaming\\Python\\Python311\\site-packages\\IPython\\core\\ultratb.py\", line 978, in format_exception_as_a_whole\n",
      "    frames.append(self.format_record(record))\n",
      "                  ^^^^^^^^^^^^^^^^^^^^^^^^^^\n",
      "  File \"C:\\Users\\jazmin\\AppData\\Roaming\\Python\\Python311\\site-packages\\IPython\\core\\ultratb.py\", line 878, in format_record\n",
      "    frame_info.lines, Colors, self.has_colors, lvals\n",
      "    ^^^^^^^^^^^^^^^^\n",
      "  File \"C:\\Users\\jazmin\\AppData\\Roaming\\Python\\Python311\\site-packages\\IPython\\core\\ultratb.py\", line 712, in lines\n",
      "    return self._sd.lines\n",
      "           ^^^^^^^^^^^^^^\n",
      "  File \"C:\\Users\\jazmin\\AppData\\Roaming\\Python\\Python311\\site-packages\\stack_data\\utils.py\", line 144, in cached_property_wrapper\n",
      "    value = obj.__dict__[self.func.__name__] = self.func(obj)\n",
      "                                               ^^^^^^^^^^^^^^\n",
      "  File \"C:\\Users\\jazmin\\AppData\\Roaming\\Python\\Python311\\site-packages\\stack_data\\core.py\", line 734, in lines\n",
      "    pieces = self.included_pieces\n",
      "             ^^^^^^^^^^^^^^^^^^^^\n",
      "  File \"C:\\Users\\jazmin\\AppData\\Roaming\\Python\\Python311\\site-packages\\stack_data\\utils.py\", line 144, in cached_property_wrapper\n",
      "    value = obj.__dict__[self.func.__name__] = self.func(obj)\n",
      "                                               ^^^^^^^^^^^^^^\n",
      "  File \"C:\\Users\\jazmin\\AppData\\Roaming\\Python\\Python311\\site-packages\\stack_data\\core.py\", line 677, in included_pieces\n",
      "    scope_pieces = self.scope_pieces\n",
      "                   ^^^^^^^^^^^^^^^^^\n",
      "  File \"C:\\Users\\jazmin\\AppData\\Roaming\\Python\\Python311\\site-packages\\stack_data\\utils.py\", line 144, in cached_property_wrapper\n",
      "    value = obj.__dict__[self.func.__name__] = self.func(obj)\n",
      "                                               ^^^^^^^^^^^^^^\n",
      "  File \"C:\\Users\\jazmin\\AppData\\Roaming\\Python\\Python311\\site-packages\\stack_data\\core.py\", line 614, in scope_pieces\n",
      "    scope_start, scope_end = self.source.line_range(self.scope)\n",
      "                             ^^^^^^^^^^^^^^^^^^^^^^^^^^^^^^^^^^\n",
      "  File \"C:\\Users\\jazmin\\AppData\\Roaming\\Python\\Python311\\site-packages\\stack_data\\core.py\", line 178, in line_range\n",
      "    return line_range(self.asttext(), node)\n",
      "                      ^^^^^^^^^^^^^^\n",
      "  File \"C:\\Users\\jazmin\\AppData\\Roaming\\Python\\Python311\\site-packages\\executing\\executing.py\", line 428, in asttext\n",
      "    self._asttext = ASTText(self.text, tree=self.tree, filename=self.filename)\n",
      "                    ^^^^^^^^^^^^^^^^^^^^^^^^^^^^^^^^^^^^^^^^^^^^^^^^^^^^^^^^^^\n",
      "  File \"C:\\Users\\jazmin\\AppData\\Roaming\\Python\\Python311\\site-packages\\asttokens\\asttokens.py\", line 307, in __init__\n",
      "    super(ASTText, self).__init__(source_text, filename)\n",
      "  File \"C:\\Users\\jazmin\\AppData\\Roaming\\Python\\Python311\\site-packages\\asttokens\\asttokens.py\", line 44, in __init__\n",
      "    source_text = six.ensure_text(source_text)\n",
      "                  ^^^^^^^^^^^^^^^\n",
      "AttributeError: module 'six' has no attribute 'ensure_text'\n"
     ]
    }
   ],
   "source": [
    "df = df.read_csv(\"user_reviews.csv\")"
   ]
  },
  {
   "cell_type": "code",
   "execution_count": null,
   "id": "a61d0c63",
   "metadata": {},
   "outputs": [],
   "source": []
  }
 ],
 "metadata": {
  "kernelspec": {
   "display_name": "Python 3 (ipykernel)",
   "language": "python",
   "name": "python3"
  },
  "language_info": {
   "codemirror_mode": {
    "name": "ipython",
    "version": 3
   },
   "file_extension": ".py",
   "mimetype": "text/x-python",
   "name": "python",
   "nbconvert_exporter": "python",
   "pygments_lexer": "ipython3",
   "version": "3.11.3"
  }
 },
 "nbformat": 4,
 "nbformat_minor": 5
}
