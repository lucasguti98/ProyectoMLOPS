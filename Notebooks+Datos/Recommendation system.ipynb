{
 "cells": [
  {
   "cell_type": "code",
   "execution_count": 1,
   "id": "ade40e95",
   "metadata": {},
   "outputs": [],
   "source": [
    "import pandas as pd"
   ]
  },
  {
   "cell_type": "code",
   "execution_count": 2,
   "id": "23f127b6",
   "metadata": {},
   "outputs": [],
   "source": [
    "df = pd.read_csv(\"cleaned_data.csv\")"
   ]
  },
  {
   "cell_type": "code",
   "execution_count": 7,
   "id": "758bc4d1",
   "metadata": {},
   "outputs": [
    {
     "data": {
      "text/html": [
       "<div>\n",
       "<style scoped>\n",
       "    .dataframe tbody tr th:only-of-type {\n",
       "        vertical-align: middle;\n",
       "    }\n",
       "\n",
       "    .dataframe tbody tr th {\n",
       "        vertical-align: top;\n",
       "    }\n",
       "\n",
       "    .dataframe thead th {\n",
       "        text-align: right;\n",
       "    }\n",
       "</style>\n",
       "<table border=\"1\" class=\"dataframe\">\n",
       "  <thead>\n",
       "    <tr style=\"text-align: right;\">\n",
       "      <th></th>\n",
       "      <th>genres</th>\n",
       "      <th>title</th>\n",
       "      <th>price</th>\n",
       "      <th>id</th>\n",
       "      <th>developer</th>\n",
       "      <th>release_year</th>\n",
       "    </tr>\n",
       "  </thead>\n",
       "  <tbody>\n",
       "    <tr>\n",
       "      <th>0</th>\n",
       "      <td>['Action', 'Casual', 'Indie', 'Simulation', 'S...</td>\n",
       "      <td>Lost Summoner Kitty</td>\n",
       "      <td>4.99</td>\n",
       "      <td>761140</td>\n",
       "      <td>Kotoshiro</td>\n",
       "      <td>2018</td>\n",
       "    </tr>\n",
       "    <tr>\n",
       "      <th>1</th>\n",
       "      <td>['Free to Play', 'Indie', 'RPG', 'Strategy']</td>\n",
       "      <td>Ironbound</td>\n",
       "      <td>0.00</td>\n",
       "      <td>643980</td>\n",
       "      <td>Secret Level SRL</td>\n",
       "      <td>2018</td>\n",
       "    </tr>\n",
       "    <tr>\n",
       "      <th>2</th>\n",
       "      <td>['Casual', 'Free to Play', 'Indie', 'Simulatio...</td>\n",
       "      <td>Real Pool 3D - Poolians</td>\n",
       "      <td>0.00</td>\n",
       "      <td>670290</td>\n",
       "      <td>Poolians.com</td>\n",
       "      <td>2017</td>\n",
       "    </tr>\n",
       "    <tr>\n",
       "      <th>3</th>\n",
       "      <td>['Action', 'Adventure', 'Casual']</td>\n",
       "      <td>弹炸人2222</td>\n",
       "      <td>0.99</td>\n",
       "      <td>767400</td>\n",
       "      <td>彼岸领域</td>\n",
       "      <td>2017</td>\n",
       "    </tr>\n",
       "    <tr>\n",
       "      <th>4</th>\n",
       "      <td>['Action', 'Adventure', 'Simulation']</td>\n",
       "      <td>Battle Royale Trainer</td>\n",
       "      <td>3.99</td>\n",
       "      <td>772540</td>\n",
       "      <td>Trickjump Games Ltd</td>\n",
       "      <td>2018</td>\n",
       "    </tr>\n",
       "  </tbody>\n",
       "</table>\n",
       "</div>"
      ],
      "text/plain": [
       "                                              genres                    title   \n",
       "0  ['Action', 'Casual', 'Indie', 'Simulation', 'S...      Lost Summoner Kitty  \\\n",
       "1       ['Free to Play', 'Indie', 'RPG', 'Strategy']                Ironbound   \n",
       "2  ['Casual', 'Free to Play', 'Indie', 'Simulatio...  Real Pool 3D - Poolians   \n",
       "3                  ['Action', 'Adventure', 'Casual']                  弹炸人2222   \n",
       "4              ['Action', 'Adventure', 'Simulation']    Battle Royale Trainer   \n",
       "\n",
       "   price      id            developer  release_year  \n",
       "0   4.99  761140            Kotoshiro          2018  \n",
       "1   0.00  643980     Secret Level SRL          2018  \n",
       "2   0.00  670290         Poolians.com          2017  \n",
       "3   0.99  767400                 彼岸领域          2017  \n",
       "4   3.99  772540  Trickjump Games Ltd          2018  "
      ]
     },
     "execution_count": 7,
     "metadata": {},
     "output_type": "execute_result"
    }
   ],
   "source": [
    "df.head()"
   ]
  },
  {
   "cell_type": "code",
   "execution_count": 3,
   "id": "a266f6b4",
   "metadata": {},
   "outputs": [],
   "source": [
    "#Ordeno las columnas\n",
    "ordered_columns = [\"title\",\"id\",\"developer\",\"release_year\",\"genres\",\"price\"]\n",
    "df = df[ordered_columns]"
   ]
  },
  {
   "cell_type": "code",
   "execution_count": 4,
   "id": "17bececc",
   "metadata": {},
   "outputs": [],
   "source": [
    "#Hago el encoding de las columnas de género para hacer el sistema.\n",
    "import ast\n",
    "df[\"genres\"] = df[\"genres\"].apply(lambda x: ast.literal_eval(x))\n",
    "genres = pd.DataFrame(df[\"genres\"].tolist())\n",
    "genres_obj = genres.stack()\n",
    "genres_df = pd.get_dummies(genres_obj)\n",
    "genres_df = genres_df.groupby(level = [0], axis = 0).sum()\n"
   ]
  },
  {
   "cell_type": "code",
   "execution_count": 5,
   "id": "de636550",
   "metadata": {
    "scrolled": true
   },
   "outputs": [
    {
     "data": {
      "text/plain": [
       "Indie                        15123\n",
       "Action                       10697\n",
       "Casual                        8061\n",
       "Adventure                     7809\n",
       "Strategy                      6701\n",
       "Simulation                    6512\n",
       "RPG                           5121\n",
       "Free to Play                  1881\n",
       "Early Access                  1383\n",
       "Sports                        1206\n",
       "Racing                        1049\n",
       "Massively Multiplayer         1000\n",
       "Design &amp; Illustration      450\n",
       "Utilities                      319\n",
       "Web Publishing                 260\n",
       "Animation &amp; Modeling       170\n",
       "Education                      121\n",
       "Video Production               104\n",
       "Software Training              102\n",
       "Audio Production                85\n",
       "Photo Editing                   77\n",
       "Accounting                       7\n",
       "dtype: int64"
      ]
     },
     "execution_count": 5,
     "metadata": {},
     "output_type": "execute_result"
    }
   ],
   "source": [
    "genres_df.sum().sort_values(ascending=False)"
   ]
  },
  {
   "cell_type": "code",
   "execution_count": 6,
   "id": "7042c61d",
   "metadata": {},
   "outputs": [],
   "source": [
    "genres_df = genres_df[[\"Indie\",\"Action\",\"Casual\",\"Adventure\",\"Strategy\",\"Simulation\",\"RPG\",\"Free to Play\",\"Sports\",\"Racing\"]]"
   ]
  },
  {
   "cell_type": "code",
   "execution_count": 7,
   "id": "adbf67d8",
   "metadata": {},
   "outputs": [],
   "source": [
    "df = pd.concat([df, genres_df], axis = 1)\n",
    "df = df.drop(columns=\"genres\")"
   ]
  },
  {
   "cell_type": "code",
   "execution_count": 10,
   "id": "71bb613d",
   "metadata": {},
   "outputs": [
    {
     "data": {
      "text/plain": [
       "Index(['title', 'id', 'developer', 'release_year', 'price', 'Indie', 'Action',\n",
       "       'Casual', 'Adventure', 'Strategy', 'Simulation', 'RPG', 'Free to Play',\n",
       "       'Sports', 'Racing'],\n",
       "      dtype='object')"
      ]
     },
     "execution_count": 10,
     "metadata": {},
     "output_type": "execute_result"
    }
   ],
   "source": [
    "df.columns"
   ]
  },
  {
   "cell_type": "code",
   "execution_count": 11,
   "id": "2697cd29",
   "metadata": {},
   "outputs": [],
   "source": [
    "#Selecciono las primeras 5000 filas para que mi pc de 8gb de ram pueda procesarlo.\n",
    "\n",
    "first_5000_rows = df.head(5000)\n",
    "first_5000_rows.to_csv(\"first_20000_rows.csv\", index=False)"
   ]
  },
  {
   "cell_type": "code",
   "execution_count": 12,
   "id": "94894045",
   "metadata": {},
   "outputs": [],
   "source": [
    "from sklearn.metrics.pairwise import cosine_similarity\n",
    "\n",
    "#Selecciono las columnas para hacer la matriz del coseno de similiaridad.\n",
    "features = first_5000_rows[['Indie', 'Action', 'Casual', 'Adventure', 'Strategy', 'Simulation', 'RPG', 'Free to Play',\n",
    "       'Sports', 'Racing']]\n",
    "\n",
    "similarity_matrix = cosine_similarity(features)"
   ]
  },
  {
   "cell_type": "code",
   "execution_count": 15,
   "id": "6ca1c412",
   "metadata": {},
   "outputs": [],
   "source": [
    "from sklearn.metrics.pairwise import cosine_similarity\n",
    "\n",
    "def calcular_recomendacion(first_5000_rows, title, top_n=5):\n",
    "    #Selecciono las columnas para hacer la matriz del coseno de similiaridad.\n",
    "    features = first_5000_rows[['Indie', 'Action', 'Casual', 'Adventure', 'Strategy', 'Simulation', 'RPG', 'Free to Play', 'Sports', 'Racing']]\n",
    "\n",
    "    similarity_matrix = cosine_similarity(features)\n",
    "\n",
    "    indice_juego = first_5000_rows[first_5000_rows['title'] == title].index[0]\n",
    "\n",
    "    # Calculo la similitud del coseno para ese juego\n",
    "    similar_juegos = list(enumerate(similarity_matrix[indice_juego]))\n",
    "\n",
    "    # Ordeno las recomendaciones\n",
    "    similar_juegos = sorted(similar_juegos, key=lambda x: x[1], reverse=True)\n",
    "\n",
    "    # Selecciono las n primeras posiciones\n",
    "    top_n_similar_juegos = similar_juegos[1:top_n + 1]\n",
    "\n",
    "    # Selecciono sus indices\n",
    "    top_n_indices = [x[0] for x in top_n_similar_juegos]\n",
    "\n",
    "    # Get the titles of the top N similar games\n",
    "    juegos_recomendados = first_5000_rows.iloc[top_n_indices]['title'].tolist()\n",
    "\n",
    "    return juegos_recomendados"
   ]
  },
  {
   "cell_type": "code",
   "execution_count": 16,
   "id": "dadc5064",
   "metadata": {},
   "outputs": [],
   "source": [
    "juegos = first_5000_rows[\"title\"]\n",
    "\n",
    "# Create a dictionary to store recommendations\n",
    "recomendaciones_dict = {}\n",
    "\n",
    "for title in juegos:\n",
    "    recomendaciones = calcular_recomendacion(first_5000_rows, title, top_n=5)\n",
    "    recomendaciones_dict[titulo] = recomendaciones\n",
    "\n",
    "# Convierto el diccionario en un dataframe\n",
    "recomendaciones_df = pd.DataFrame(recomendaciones_dict.items(), columns=[\"Game\", \"Recommended Games\"])\n"
   ]
  },
  {
   "cell_type": "code",
   "execution_count": 18,
   "id": "8334d64c",
   "metadata": {},
   "outputs": [],
   "source": [
    "recomendaciones_df.to_csv(\"Recommendation_system.csv\",index=False)"
   ]
  },
  {
   "cell_type": "code",
   "execution_count": 19,
   "id": "ac9b0066",
   "metadata": {},
   "outputs": [
    {
     "data": {
      "text/html": [
       "<div>\n",
       "<style scoped>\n",
       "    .dataframe tbody tr th:only-of-type {\n",
       "        vertical-align: middle;\n",
       "    }\n",
       "\n",
       "    .dataframe tbody tr th {\n",
       "        vertical-align: top;\n",
       "    }\n",
       "\n",
       "    .dataframe thead th {\n",
       "        text-align: right;\n",
       "    }\n",
       "</style>\n",
       "<table border=\"1\" class=\"dataframe\">\n",
       "  <thead>\n",
       "    <tr style=\"text-align: right;\">\n",
       "      <th></th>\n",
       "      <th>Game</th>\n",
       "      <th>Recommended Games</th>\n",
       "    </tr>\n",
       "  </thead>\n",
       "  <tbody>\n",
       "    <tr>\n",
       "      <th>0</th>\n",
       "      <td>Lost Summoner Kitty</td>\n",
       "      <td>[Pixel Puzzles 2: Anime, World of Cinema - Dir...</td>\n",
       "    </tr>\n",
       "    <tr>\n",
       "      <th>1</th>\n",
       "      <td>Ironbound</td>\n",
       "      <td>[Shadow Hunter, Immortal Empire, Tactical Craf...</td>\n",
       "    </tr>\n",
       "    <tr>\n",
       "      <th>2</th>\n",
       "      <td>Real Pool 3D - Poolians</td>\n",
       "      <td>[SNOW - All Access Basic Pass, SNOW - All Acce...</td>\n",
       "    </tr>\n",
       "    <tr>\n",
       "      <th>3</th>\n",
       "      <td>弹炸人2222</td>\n",
       "      <td>[Atomic Adam: Episode 1, Biozone, Luxor: 5th P...</td>\n",
       "    </tr>\n",
       "    <tr>\n",
       "      <th>4</th>\n",
       "      <td>Battle Royale Trainer</td>\n",
       "      <td>[The Tomorrow War, Beyond Space Remastered Edi...</td>\n",
       "    </tr>\n",
       "    <tr>\n",
       "      <th>...</th>\n",
       "      <td>...</td>\n",
       "      <td>...</td>\n",
       "    </tr>\n",
       "    <tr>\n",
       "      <th>4995</th>\n",
       "      <td>Krautscape</td>\n",
       "      <td>[SkyDrift, Spectra, SinaRun, Krautscape, Carma...</td>\n",
       "    </tr>\n",
       "    <tr>\n",
       "      <th>4996</th>\n",
       "      <td>The Kindred</td>\n",
       "      <td>[Gratuitous Space Battles, Gratuitous Space Ba...</td>\n",
       "    </tr>\n",
       "    <tr>\n",
       "      <th>4997</th>\n",
       "      <td>Disgaea PC / 魔界戦記ディスガイア PC</td>\n",
       "      <td>[Rise of the Argonauts, Drakensang, Guild Wars...</td>\n",
       "    </tr>\n",
       "    <tr>\n",
       "      <th>4998</th>\n",
       "      <td>24 Hours 'til Rescue: Cheat Pack!</td>\n",
       "      <td>[Fearless Fantasy, Luna: Shattered Hearts: Epi...</td>\n",
       "    </tr>\n",
       "    <tr>\n",
       "      <th>4999</th>\n",
       "      <td>Disgaea PC / 魔界戦記ディスガイア PC - Digital Art Book ...</td>\n",
       "      <td>[Rise of the Argonauts, Drakensang, Guild Wars...</td>\n",
       "    </tr>\n",
       "  </tbody>\n",
       "</table>\n",
       "<p>5000 rows × 2 columns</p>\n",
       "</div>"
      ],
      "text/plain": [
       "                                                   Game   \n",
       "0                                   Lost Summoner Kitty  \\\n",
       "1                                             Ironbound   \n",
       "2                               Real Pool 3D - Poolians   \n",
       "3                                               弹炸人2222   \n",
       "4                                 Battle Royale Trainer   \n",
       "...                                                 ...   \n",
       "4995                                         Krautscape   \n",
       "4996                                        The Kindred   \n",
       "4997                         Disgaea PC / 魔界戦記ディスガイア PC   \n",
       "4998                  24 Hours 'til Rescue: Cheat Pack!   \n",
       "4999  Disgaea PC / 魔界戦記ディスガイア PC - Digital Art Book ...   \n",
       "\n",
       "                                      Recommended Games  \n",
       "0     [Pixel Puzzles 2: Anime, World of Cinema - Dir...  \n",
       "1     [Shadow Hunter, Immortal Empire, Tactical Craf...  \n",
       "2     [SNOW - All Access Basic Pass, SNOW - All Acce...  \n",
       "3     [Atomic Adam: Episode 1, Biozone, Luxor: 5th P...  \n",
       "4     [The Tomorrow War, Beyond Space Remastered Edi...  \n",
       "...                                                 ...  \n",
       "4995  [SkyDrift, Spectra, SinaRun, Krautscape, Carma...  \n",
       "4996  [Gratuitous Space Battles, Gratuitous Space Ba...  \n",
       "4997  [Rise of the Argonauts, Drakensang, Guild Wars...  \n",
       "4998  [Fearless Fantasy, Luna: Shattered Hearts: Epi...  \n",
       "4999  [Rise of the Argonauts, Drakensang, Guild Wars...  \n",
       "\n",
       "[5000 rows x 2 columns]"
      ]
     },
     "execution_count": 19,
     "metadata": {},
     "output_type": "execute_result"
    }
   ],
   "source": [
    "recomendaciones_df"
   ]
  },
  {
   "cell_type": "code",
   "execution_count": null,
   "id": "60b1f6c5",
   "metadata": {},
   "outputs": [],
   "source": []
  }
 ],
 "metadata": {
  "kernelspec": {
   "display_name": "Python 3 (ipykernel)",
   "language": "python",
   "name": "python3"
  },
  "language_info": {
   "codemirror_mode": {
    "name": "ipython",
    "version": 3
   },
   "file_extension": ".py",
   "mimetype": "text/x-python",
   "name": "python",
   "nbconvert_exporter": "python",
   "pygments_lexer": "ipython3",
   "version": "3.11.3"
  }
 },
 "nbformat": 4,
 "nbformat_minor": 5
}
