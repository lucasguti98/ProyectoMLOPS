{
 "cells": [
  {
   "cell_type": "code",
   "execution_count": 26,
   "id": "318c03b7-d94e-43b0-aac3-48576e601b37",
   "metadata": {
    "tags": []
   },
   "outputs": [],
   "source": [
    "import pandas as pd"
   ]
  },
  {
   "cell_type": "code",
   "execution_count": 27,
   "id": "3a4de142-e00d-411d-843b-0723f211d02c",
   "metadata": {
    "tags": []
   },
   "outputs": [],
   "source": [
    "df = pd.read_csv('user_reviews.csv')"
   ]
  },
  {
   "cell_type": "code",
   "execution_count": 28,
   "id": "0e85558d-acf6-49dc-9f42-1366a2a5cdfa",
   "metadata": {
    "tags": []
   },
   "outputs": [
    {
     "data": {
      "text/html": [
       "<div>\n",
       "<style scoped>\n",
       "    .dataframe tbody tr th:only-of-type {\n",
       "        vertical-align: middle;\n",
       "    }\n",
       "\n",
       "    .dataframe tbody tr th {\n",
       "        vertical-align: top;\n",
       "    }\n",
       "\n",
       "    .dataframe thead th {\n",
       "        text-align: right;\n",
       "    }\n",
       "</style>\n",
       "<table border=\"1\" class=\"dataframe\">\n",
       "  <thead>\n",
       "    <tr style=\"text-align: right;\">\n",
       "      <th></th>\n",
       "      <th>Unnamed: 0</th>\n",
       "      <th>user_id</th>\n",
       "      <th>user_url</th>\n",
       "      <th>reviews</th>\n",
       "    </tr>\n",
       "  </thead>\n",
       "  <tbody>\n",
       "    <tr>\n",
       "      <th>0</th>\n",
       "      <td>0</td>\n",
       "      <td>76561197970982479</td>\n",
       "      <td>http://steamcommunity.com/profiles/76561197970...</td>\n",
       "      <td>[{'funny': '', 'posted': 'Posted November 5, 2...</td>\n",
       "    </tr>\n",
       "    <tr>\n",
       "      <th>1</th>\n",
       "      <td>1</td>\n",
       "      <td>js41637</td>\n",
       "      <td>http://steamcommunity.com/id/js41637</td>\n",
       "      <td>[{'funny': '', 'posted': 'Posted June 24, 2014...</td>\n",
       "    </tr>\n",
       "    <tr>\n",
       "      <th>2</th>\n",
       "      <td>2</td>\n",
       "      <td>evcentric</td>\n",
       "      <td>http://steamcommunity.com/id/evcentric</td>\n",
       "      <td>[{'funny': '', 'posted': 'Posted February 3.',...</td>\n",
       "    </tr>\n",
       "    <tr>\n",
       "      <th>3</th>\n",
       "      <td>3</td>\n",
       "      <td>doctr</td>\n",
       "      <td>http://steamcommunity.com/id/doctr</td>\n",
       "      <td>[{'funny': '', 'posted': 'Posted October 14, 2...</td>\n",
       "    </tr>\n",
       "    <tr>\n",
       "      <th>4</th>\n",
       "      <td>4</td>\n",
       "      <td>maplemage</td>\n",
       "      <td>http://steamcommunity.com/id/maplemage</td>\n",
       "      <td>[{'funny': '3 people found this review funny',...</td>\n",
       "    </tr>\n",
       "  </tbody>\n",
       "</table>\n",
       "</div>"
      ],
      "text/plain": [
       "   Unnamed: 0            user_id   \n",
       "0           0  76561197970982479  \\\n",
       "1           1            js41637   \n",
       "2           2          evcentric   \n",
       "3           3              doctr   \n",
       "4           4          maplemage   \n",
       "\n",
       "                                            user_url   \n",
       "0  http://steamcommunity.com/profiles/76561197970...  \\\n",
       "1               http://steamcommunity.com/id/js41637   \n",
       "2             http://steamcommunity.com/id/evcentric   \n",
       "3                 http://steamcommunity.com/id/doctr   \n",
       "4             http://steamcommunity.com/id/maplemage   \n",
       "\n",
       "                                             reviews  \n",
       "0  [{'funny': '', 'posted': 'Posted November 5, 2...  \n",
       "1  [{'funny': '', 'posted': 'Posted June 24, 2014...  \n",
       "2  [{'funny': '', 'posted': 'Posted February 3.',...  \n",
       "3  [{'funny': '', 'posted': 'Posted October 14, 2...  \n",
       "4  [{'funny': '3 people found this review funny',...  "
      ]
     },
     "execution_count": 28,
     "metadata": {},
     "output_type": "execute_result"
    }
   ],
   "source": [
    "df.head()"
   ]
  },
  {
   "cell_type": "code",
   "execution_count": 29,
   "id": "f6297d2a",
   "metadata": {},
   "outputs": [
    {
     "data": {
      "text/plain": [
       "'[{\\'funny\\': \\'\\', \\'posted\\': \\'Posted November 5, 2011.\\', \\'last_edited\\': \\'\\', \\'item_id\\': \\'1250\\', \\'helpful\\': \\'No ratings yet\\', \\'recommend\\': True, \\'review\\': \\'Simple yet with great replayability. In my opinion does \"zombie\" hordes and team work better than left 4 dead plus has a global leveling system. Alot of down to earth \"zombie\" splattering fun for the whole family. Amazed this sort of FPS is so rare.\\'}, {\\'funny\\': \\'\\', \\'posted\\': \\'Posted July 15, 2011.\\', \\'last_edited\\': \\'\\', \\'item_id\\': \\'22200\\', \\'helpful\\': \\'No ratings yet\\', \\'recommend\\': True, \\'review\\': \"It\\'s unique and worth a playthrough.\"}, {\\'funny\\': \\'\\', \\'posted\\': \\'Posted April 21, 2011.\\', \\'last_edited\\': \\'\\', \\'item_id\\': \\'43110\\', \\'helpful\\': \\'No ratings yet\\', \\'recommend\\': True, \\'review\\': \\'Great atmosphere. The gunplay can be a bit chunky at times but at the end of the day this game is definitely worth it and I hope they do a sequel...so buy the game so I get a sequel!\\'}]'"
      ]
     },
     "execution_count": 29,
     "metadata": {},
     "output_type": "execute_result"
    }
   ],
   "source": [
    "df['reviews'][0]"
   ]
  },
  {
   "cell_type": "code",
   "execution_count": 30,
   "id": "20efaed9-22b1-42b5-87e0-d0cb3d10a73c",
   "metadata": {
    "tags": []
   },
   "outputs": [],
   "source": [
    "df = df.drop(columns=\"Unnamed: 0\")"
   ]
  },
  {
   "cell_type": "code",
   "execution_count": 31,
   "id": "f29963d0",
   "metadata": {},
   "outputs": [
    {
     "data": {
      "text/plain": [
       "(25799, 3)"
      ]
     },
     "execution_count": 31,
     "metadata": {},
     "output_type": "execute_result"
    }
   ],
   "source": [
    "df.shape"
   ]
  },
  {
   "cell_type": "code",
   "execution_count": 32,
   "id": "0ec1b8db",
   "metadata": {},
   "outputs": [],
   "source": [
    "import ast\n",
    "def parse_review(reviews):\n",
    "        return ast.literal_eval(reviews)\n",
    "    \n",
    "df['reviews'] = df['reviews'].apply(parse_review)"
   ]
  },
  {
   "cell_type": "code",
   "execution_count": 33,
   "id": "074e270a",
   "metadata": {},
   "outputs": [
    {
     "data": {
      "text/plain": [
       "[{'funny': '',\n",
       "  'posted': 'Posted June 24, 2014.',\n",
       "  'last_edited': '',\n",
       "  'item_id': '251610',\n",
       "  'helpful': '15 of 20 people (75%) found this review helpful',\n",
       "  'recommend': True,\n",
       "  'review': 'I know what you think when you see this title \"Barbie Dreamhouse Party\" but do not be intimidated by it\\'s title, this is easily one of my GOTYs. You don\\'t get any of that cliche game mechanics that all the latest games have, this is simply good core gameplay. Yes, you can\\'t 360 noscope your friends, but what you can do is show them up with your bad ♥♥♥ dance moves and put them to shame as you show them what true fashion and color combinations are.I know this game says for kids but, this is easily for any age range and any age will have a blast playing this.8/8'},\n",
       " {'funny': '',\n",
       "  'posted': 'Posted September 8, 2013.',\n",
       "  'last_edited': '',\n",
       "  'item_id': '227300',\n",
       "  'helpful': '0 of 1 people (0%) found this review helpful',\n",
       "  'recommend': True,\n",
       "  'review': \"For a simple (it's actually not all that simple but it can be!) truck driving Simulator, it is quite a fun and relaxing game. Playing on simple (or easy?) its just the basic WASD keys for driving but (if you want) the game can be much harder and realistic with having to manually change gears, much harder turning, etc. And reversing in this game is a ♥♥♥♥♥, as I imagine it would be with an actual truck. Luckily, you don't have to reverse park it but you get extra points if you do cause it is bloody hard. But this is suprisingly a nice truck driving game and I had a bit of fun with it.\"},\n",
       " {'funny': '',\n",
       "  'posted': 'Posted November 29, 2013.',\n",
       "  'last_edited': '',\n",
       "  'item_id': '239030',\n",
       "  'helpful': '1 of 4 people (25%) found this review helpful',\n",
       "  'recommend': True,\n",
       "  'review': 'Very fun little game to play when your bored or as a time passer. Very gud. Do Recommend. pls buy'}]"
      ]
     },
     "execution_count": 33,
     "metadata": {},
     "output_type": "execute_result"
    }
   ],
   "source": [
    "df['reviews'][1]"
   ]
  },
  {
   "cell_type": "code",
   "execution_count": 129,
   "id": "b41b56e6",
   "metadata": {},
   "outputs": [],
   "source": [
    "# Reduzco la cantidad de filas porque sino mi compu explota\n",
    "df = df.head(5000)"
   ]
  },
  {
   "cell_type": "markdown",
   "id": "25f1d79b",
   "metadata": {},
   "source": [
    "# Endpoints"
   ]
  },
  {
   "cell_type": "markdown",
   "id": "8a6810fc",
   "metadata": {},
   "source": [
    "def UsersRecommend( año : int ): Devuelve el top 3 de juegos MÁS recomendados por usuarios para el año dado. (reviews.recommend = True y comentarios positivos/neutrales)"
   ]
  },
  {
   "cell_type": "code",
   "execution_count": null,
   "id": "6a8defe6",
   "metadata": {},
   "outputs": [],
   "source": []
  },
  {
   "cell_type": "markdown",
   "id": "014e772a",
   "metadata": {},
   "source": [
    "def best_developer_year( año : int ): Devuelve el top 3 de desarrolladores con juegos MÁS recomendados por usuarios para el año dado. (reviews.recommend = True"
   ]
  },
  {
   "cell_type": "code",
   "execution_count": 130,
   "id": "22981cfe",
   "metadata": {},
   "outputs": [],
   "source": [
    "import re\n",
    "\n",
    "def normalize_item_id(item_id):\n",
    "    # Convertir item_id a cadena y luego eliminar caracteres especiales y convertir a minúsculas\n",
    "    item_id = re.sub(r'[^\\w\\s]', '', str(item_id)).lower()\n",
    "    return item_id\n",
    "\n",
    "steam_games = pd.read_csv('cleaned_data.csv')\n",
    "data_list = []  # Lista para almacenar los datos\n",
    "\n",
    "# Iterar a través de las reviews\n",
    "for index, row in df.iterrows():\n",
    "    for review in row['reviews']:\n",
    "        item_id = review.get('item_id', '')\n",
    "        posted = review.get('posted', '')\n",
    "        review_year = review.get('posted', '').split()[-1].strip('.')\n",
    "        recommend = review.get('recommend', False)\n",
    "        \n",
    "            \n",
    "        if recommend:\n",
    "            normalized_item_id = normalize_item_id(item_id)\n",
    "            # Verificar si el juego existe en steam_games después de normalizar el item_id\n",
    "            if normalized_item_id in steam_games['id'].apply(normalize_item_id).values:\n",
    "                developer = steam_games[steam_games['id'].apply(normalize_item_id) == normalized_item_id]['developer'].values[0]\n",
    "                data_list.append({'year': review_year, 'developer': developer})\n",
    "            else:\n",
    "                # Manejo de casos en los que no se encuentra el juego\n",
    "                developer = 'Desarrollador Desconocido'\n",
    "                data_list.append({'year': review_year, 'developer': developer})\n",
    "    \n",
    "    \n",
    "data = pd.DataFrame(data_list)  # Convertir la lista en un DataFrame"
   ]
  },
  {
   "cell_type": "code",
   "execution_count": 134,
   "id": "6e4c8521",
   "metadata": {
    "collapsed": true
   },
   "outputs": [
    {
     "name": "stdout",
     "output_type": "stream",
     "text": [
      "    year             developer count\n",
      "0   2010                 Valve     3\n",
      "1   2010  Tripwire Interactive     1\n",
      "2   2010      Frictional Games     1\n",
      "3   2011                 Valve     8\n",
      "4   2011      Supergiant Games     2\n",
      "5   2011  Tripwire Interactive     1\n",
      "6   2012                 Valve    18\n",
      "7   2012        Telltale Games     2\n",
      "8   2012     Facepunch Studios     2\n",
      "9   2013                 Valve    44\n",
      "10  2013     Facepunch Studios     9\n",
      "11  2013           Chucklefish     6\n",
      "12  2014                 Valve   107\n",
      "13  2014     Facepunch Studios    36\n",
      "14  2014   Bohemia Interactive    19\n",
      "15  2015                 Valve   106\n",
      "16  2015     Facepunch Studios    24\n",
      "17  2015   Bohemia Interactive    17\n"
     ]
    }
   ],
   "source": [
    "# Crear un DataFrame vacío para almacenar los resultados\n",
    "result_df = pd.DataFrame(columns=['year', 'developer', 'count'])\n",
    "\n",
    "# Iterar desde el año 2005 al 2020\n",
    "for year in range(2005, 2021):\n",
    "    developers_for_year = data[data['year'] == str(year)]['developer']\n",
    "    # Filtrar los desarrolladores desconocidos\n",
    "    developers_for_year = developers_for_year[developers_for_year != 'Desarrollador Desconocido']\n",
    "    top_developers = developers_for_year.value_counts().reset_index()\n",
    "    top_developers.columns = ['developer', 'count']\n",
    "    top_developers = top_developers.head(3)\n",
    "    top_developers['year'] = year\n",
    "\n",
    "    result_df = pd.concat([result_df, top_developers])\n",
    "\n",
    "# Reiniciar los índices del DataFrame resultante\n",
    "result_df = result_df.reset_index(drop=True)\n",
    "\n",
    "print(result_df)"
   ]
  },
  {
   "cell_type": "code",
   "execution_count": null,
   "id": "cd30d6a6",
   "metadata": {},
   "outputs": [],
   "source": [
    "#Almaceno el df en un csv para ser consumido por la API.\n",
    "result_df.to_csv(\"df_endpoint4.csv\", index=False)"
   ]
  },
  {
   "cell_type": "code",
   "execution_count": 136,
   "id": "6a98da55",
   "metadata": {},
   "outputs": [
    {
     "name": "stdout",
     "output_type": "stream",
     "text": [
      "[{'Puesto 1': 'Valve'}, {'Puesto 2': 'Facepunch Studios'}, {'Puesto 3': 'Bohemia Interactive'}]\n"
     ]
    }
   ],
   "source": [
    "def best_developer_year(year, result_df):\n",
    "    # Filtrar el DataFrame por el año especificado\n",
    "    filtered_data = result_df[result_df['year'] == year]\n",
    "\n",
    "    # Ordenar los datos por la columna 'count' de forma descendente\n",
    "    sorted_data = filtered_data.sort_values(by='count', ascending=False)\n",
    "\n",
    "    # Obtener el top 3 de desarrolladores\n",
    "    top_developers = sorted_data.head(3)\n",
    "\n",
    "    # Crear la lista en el formato deseado\n",
    "    top_developers_list = [{\"Puesto 1\": top_developers.iloc[0]['developer']}, \n",
    "                           {\"Puesto 2\": top_developers.iloc[1]['developer']},\n",
    "                           {\"Puesto 3\": top_developers.iloc[2]['developer']}]\n",
    "\n",
    "    return top_developers_list\n",
    "\n",
    "# Llama a la función con el año deseado y el DataFrame result_df\n",
    "year = 2015  # Cambia esto al año que desees\n",
    "top_developers_2015 = best_developer_year(year, result_df)\n",
    "\n",
    "# Imprime el resultado\n",
    "print(top_developers_2015)"
   ]
  },
  {
   "cell_type": "markdown",
   "id": "8530bbb1",
   "metadata": {},
   "source": [
    "#### Endpoint sentiment analysis"
   ]
  },
  {
   "cell_type": "markdown",
   "id": "4c1edc24",
   "metadata": {},
   "source": [
    "* def developer_reviews_analysis( desarrolladora : str ): Según el desarrollador, se devuelve un diccionario con el nombre del desarrollador como llave y una lista con la cantidad total de registros de reseñas de usuarios que se encuentren categorizados con un análisis de sentimiento como valor positivo o negativo."
   ]
  },
  {
   "cell_type": "code",
   "execution_count": 137,
   "id": "4ee2467c",
   "metadata": {},
   "outputs": [],
   "source": [
    "df_reviews = pd.DataFrame(df[\"reviews\"])"
   ]
  },
  {
   "cell_type": "code",
   "execution_count": 139,
   "id": "e69a7228",
   "metadata": {},
   "outputs": [],
   "source": [
    "from textblob import TextBlob\n",
    "def analyze_sentiment(reviews_list):\n",
    "    sentiments = []\n",
    "    for review_dict in reviews_list:\n",
    "        analysis = TextBlob(review_dict['review'])\n",
    "        polarity = analysis.sentiment.polarity\n",
    "        if polarity < 0:\n",
    "            sentiments.append(0) \n",
    "        elif polarity == 0:\n",
    "            sentiments.append(1)  \n",
    "        else:\n",
    "            sentiments.append(2) \n",
    "    return sentiments"
   ]
  },
  {
   "cell_type": "code",
   "execution_count": null,
   "id": "d88a0901",
   "metadata": {},
   "outputs": [],
   "source": [
    "df_reviews['sentiment_analysis'] = df_reviews['reviews'].apply(analyze_sentiment)"
   ]
  },
  {
   "cell_type": "code",
   "execution_count": null,
   "id": "9f860750",
   "metadata": {},
   "outputs": [],
   "source": [
    "df_reviews.iloc[1]"
   ]
  },
  {
   "cell_type": "code",
   "execution_count": null,
   "id": "7176bf56",
   "metadata": {},
   "outputs": [],
   "source": []
  },
  {
   "cell_type": "markdown",
   "id": "0a628156",
   "metadata": {},
   "source": [
    "* def sentiment_analysis( año : int ): Según el año de lanzamiento, se devuelve una lista con la cantidad de registros de reseñas de usuarios que se encuentren categorizados con un análisis de sentimiento."
   ]
  },
  {
   "cell_type": "code",
   "execution_count": 91,
   "id": "a8c31f0b",
   "metadata": {},
   "outputs": [
    {
     "data": {
      "text/plain": [
       "[{'funny': '3 people found this review funny',\n",
       "  'posted': 'Posted April 15, 2014.',\n",
       "  'last_edited': '',\n",
       "  'item_id': '211420',\n",
       "  'helpful': '35 of 43 people (81%) found this review helpful',\n",
       "  'recommend': True,\n",
       "  'review': 'Git gud'},\n",
       " {'funny': '1 person found this review funny',\n",
       "  'posted': 'Posted December 23, 2013.',\n",
       "  'last_edited': '',\n",
       "  'item_id': '211820',\n",
       "  'helpful': '12 of 16 people (75%) found this review helpful',\n",
       "  'recommend': True,\n",
       "  'review': \"It's like Terraria, you play for 9 hours straight, get endgame armour then stop playing until the next update.\"},\n",
       " {'funny': '2 people found this review funny',\n",
       "  'posted': 'Posted March 14, 2014.',\n",
       "  'last_edited': '',\n",
       "  'item_id': '730',\n",
       "  'helpful': '5 of 5 people (100%) found this review helpful',\n",
       "  'recommend': True,\n",
       "  'review': 'Hold shift to win, Hold CTRL to lose.'},\n",
       " {'funny': '',\n",
       "  'posted': 'Posted July 11, 2013.',\n",
       "  'last_edited': '',\n",
       "  'item_id': '204300',\n",
       "  'helpful': 'No ratings yet',\n",
       "  'recommend': True,\n",
       "  'review': \"OH YES, THIS GAME IS THE BEST, THEY ADD STUFF LIKE NEW CHARACTERS, AND LIKE A NEW MAP ONCE A YEAR, IT'S SO AWESOME, OH YES, IT'S SO AWESOMENAUTS, YES, YES, I'M GOOD AT THIS, YES, YES, GOOD, I'M GOOD, YES, GOOD, YOU ARE BAD, IM GOOD, YES, TOO GOOD, YES, IM NOT BAD, YES, GOOD.\"}]"
      ]
     },
     "execution_count": 91,
     "metadata": {},
     "output_type": "execute_result"
    }
   ],
   "source": [
    "df[\"reviews\"][4]"
   ]
  },
  {
   "cell_type": "code",
   "execution_count": 81,
   "id": "2167e551",
   "metadata": {},
   "outputs": [],
   "source": [
    "df_reviews = pd.DataFrame(df[\"reviews\"])"
   ]
  },
  {
   "cell_type": "code",
   "execution_count": 82,
   "id": "bba9465c",
   "metadata": {},
   "outputs": [],
   "source": [
    "from textblob import TextBlob\n",
    "def analyze_sentiment(reviews_list):\n",
    "    sentiments = []\n",
    "    for review_dict in reviews_list:\n",
    "        analysis = TextBlob(review_dict['review'])\n",
    "        polarity = analysis.sentiment.polarity\n",
    "        if polarity < 0:\n",
    "            sentiments.append(0) \n",
    "        elif polarity == 0:\n",
    "            sentiments.append(1)  \n",
    "        else:\n",
    "            sentiments.append(2) \n",
    "    return sentiments"
   ]
  },
  {
   "cell_type": "code",
   "execution_count": 83,
   "id": "7285aa89",
   "metadata": {},
   "outputs": [],
   "source": [
    "df_reviews['sentiment_analysis'] = df_reviews['reviews'].apply(analyze_sentiment)"
   ]
  },
  {
   "cell_type": "code",
   "execution_count": 87,
   "id": "922f0426",
   "metadata": {},
   "outputs": [
    {
     "data": {
      "text/plain": [
       "reviews               [{'funny': '', 'posted': 'Posted June 24, 2014...\n",
       "sentiment_analysis                                            [2, 0, 0]\n",
       "Name: 1, dtype: object"
      ]
     },
     "execution_count": 87,
     "metadata": {},
     "output_type": "execute_result"
    }
   ],
   "source": [
    "df_reviews.iloc[1]"
   ]
  },
  {
   "cell_type": "code",
   "execution_count": 201,
   "id": "003e572a",
   "metadata": {},
   "outputs": [
    {
     "data": {
      "text/plain": [
       "[{'funny': '',\n",
       "  'posted': 'Posted January 6, 2015.',\n",
       "  'last_edited': '',\n",
       "  'item_id': '213670',\n",
       "  'helpful': 'No ratings yet',\n",
       "  'recommend': True,\n",
       "  'review': 'My character is a Jew named ♥♥♥♥♥♥♥♥♥ that is wearing a KKK costume.10/10, IGN'}]"
      ]
     },
     "execution_count": 201,
     "metadata": {},
     "output_type": "execute_result"
    }
   ],
   "source": [
    "df_reviews[\"reviews\"][37]"
   ]
  },
  {
   "cell_type": "code",
   "execution_count": 103,
   "id": "a939088d",
   "metadata": {},
   "outputs": [],
   "source": [
    "import re\n",
    "def sentiment_analysis(year):\n",
    "    df_filtered = df_reviews[df_reviews['reviews'].apply(lambda x: isinstance(x, list) and len(x) > 0)]\n",
    "\n",
    "    pattern = r'Posted (\\w+ \\d{1,2}, \\d{4}).'\n",
    "    def extract_year(review):\n",
    "        match = re.search(pattern, review[0]['posted'])\n",
    "        if match:\n",
    "            return int(match.group(1).split()[-1])\n",
    "        else:\n",
    "            return None\n",
    "\n",
    "    df_filtered['posted_year'] = df_filtered['reviews'].apply(extract_year)\n",
    "\n",
    "    filtered_reviews = df_filtered[df_filtered['posted_year'] == year]\n",
    "\n",
    "    sentiment_counts = filtered_reviews['sentiment_analysis'].explode().value_counts().to_dict()\n",
    "\n",
    "    sentiment_labels = {0: 'Negative', 1: 'Neutral', 2: 'Positive'}\n",
    "    sentiment_counts = {sentiment_labels[key]: value for key, value in sentiment_counts.items()}\n",
    "\n",
    "    return sentiment_counts"
   ]
  },
  {
   "cell_type": "code",
   "execution_count": 110,
   "id": "e1fee7c6",
   "metadata": {},
   "outputs": [
    {
     "name": "stderr",
     "output_type": "stream",
     "text": [
      "C:\\Users\\jazmin\\AppData\\Local\\Temp\\ipykernel_14092\\779080910.py:15: SettingWithCopyWarning: \n",
      "A value is trying to be set on a copy of a slice from a DataFrame.\n",
      "Try using .loc[row_indexer,col_indexer] = value instead\n",
      "\n",
      "See the caveats in the documentation: https://pandas.pydata.org/pandas-docs/stable/user_guide/indexing.html#returning-a-view-versus-a-copy\n",
      "  df_filtered['posted_year'] = df_filtered['reviews'].apply(extract_year)\n",
      "C:\\Users\\jazmin\\AppData\\Local\\Temp\\ipykernel_14092\\779080910.py:15: SettingWithCopyWarning: \n",
      "A value is trying to be set on a copy of a slice from a DataFrame.\n",
      "Try using .loc[row_indexer,col_indexer] = value instead\n",
      "\n",
      "See the caveats in the documentation: https://pandas.pydata.org/pandas-docs/stable/user_guide/indexing.html#returning-a-view-versus-a-copy\n",
      "  df_filtered['posted_year'] = df_filtered['reviews'].apply(extract_year)\n",
      "C:\\Users\\jazmin\\AppData\\Local\\Temp\\ipykernel_14092\\779080910.py:15: SettingWithCopyWarning: \n",
      "A value is trying to be set on a copy of a slice from a DataFrame.\n",
      "Try using .loc[row_indexer,col_indexer] = value instead\n",
      "\n",
      "See the caveats in the documentation: https://pandas.pydata.org/pandas-docs/stable/user_guide/indexing.html#returning-a-view-versus-a-copy\n",
      "  df_filtered['posted_year'] = df_filtered['reviews'].apply(extract_year)\n",
      "C:\\Users\\jazmin\\AppData\\Local\\Temp\\ipykernel_14092\\779080910.py:15: SettingWithCopyWarning: \n",
      "A value is trying to be set on a copy of a slice from a DataFrame.\n",
      "Try using .loc[row_indexer,col_indexer] = value instead\n",
      "\n",
      "See the caveats in the documentation: https://pandas.pydata.org/pandas-docs/stable/user_guide/indexing.html#returning-a-view-versus-a-copy\n",
      "  df_filtered['posted_year'] = df_filtered['reviews'].apply(extract_year)\n",
      "C:\\Users\\jazmin\\AppData\\Local\\Temp\\ipykernel_14092\\779080910.py:15: SettingWithCopyWarning: \n",
      "A value is trying to be set on a copy of a slice from a DataFrame.\n",
      "Try using .loc[row_indexer,col_indexer] = value instead\n",
      "\n",
      "See the caveats in the documentation: https://pandas.pydata.org/pandas-docs/stable/user_guide/indexing.html#returning-a-view-versus-a-copy\n",
      "  df_filtered['posted_year'] = df_filtered['reviews'].apply(extract_year)\n",
      "C:\\Users\\jazmin\\AppData\\Local\\Temp\\ipykernel_14092\\779080910.py:15: SettingWithCopyWarning: \n",
      "A value is trying to be set on a copy of a slice from a DataFrame.\n",
      "Try using .loc[row_indexer,col_indexer] = value instead\n",
      "\n",
      "See the caveats in the documentation: https://pandas.pydata.org/pandas-docs/stable/user_guide/indexing.html#returning-a-view-versus-a-copy\n",
      "  df_filtered['posted_year'] = df_filtered['reviews'].apply(extract_year)\n",
      "C:\\Users\\jazmin\\AppData\\Local\\Temp\\ipykernel_14092\\779080910.py:15: SettingWithCopyWarning: \n",
      "A value is trying to be set on a copy of a slice from a DataFrame.\n",
      "Try using .loc[row_indexer,col_indexer] = value instead\n",
      "\n",
      "See the caveats in the documentation: https://pandas.pydata.org/pandas-docs/stable/user_guide/indexing.html#returning-a-view-versus-a-copy\n",
      "  df_filtered['posted_year'] = df_filtered['reviews'].apply(extract_year)\n"
     ]
    }
   ],
   "source": [
    "years_of_interest = list(range(2009, 2016))\n",
    "results_dict = {'Year': [], 'Sentiment Analysis': []}\n",
    "\n",
    "for year in years_of_interest:\n",
    "    sentiment_result = sentiment_analysis(year)\n",
    "    results_dict['Year'].append(year)\n",
    "    results_dict['Sentiment Analysis'].append(sentiment_result)\n",
    "\n",
    "results_df = pd.DataFrame(results_dict)"
   ]
  },
  {
   "cell_type": "code",
   "execution_count": 112,
   "id": "faafbb5b",
   "metadata": {},
   "outputs": [],
   "source": [
    "results_df.to_csv(\"df_endpoint6.csv\",index=False)"
   ]
  },
  {
   "cell_type": "code",
   "execution_count": 113,
   "id": "b1749f84",
   "metadata": {},
   "outputs": [
    {
     "data": {
      "text/html": [
       "<div>\n",
       "<style scoped>\n",
       "    .dataframe tbody tr th:only-of-type {\n",
       "        vertical-align: middle;\n",
       "    }\n",
       "\n",
       "    .dataframe tbody tr th {\n",
       "        vertical-align: top;\n",
       "    }\n",
       "\n",
       "    .dataframe thead th {\n",
       "        text-align: right;\n",
       "    }\n",
       "</style>\n",
       "<table border=\"1\" class=\"dataframe\">\n",
       "  <thead>\n",
       "    <tr style=\"text-align: right;\">\n",
       "      <th></th>\n",
       "      <th>Year</th>\n",
       "      <th>Sentiment Analysis</th>\n",
       "    </tr>\n",
       "  </thead>\n",
       "  <tbody>\n",
       "    <tr>\n",
       "      <th>0</th>\n",
       "      <td>2009</td>\n",
       "      <td>{}</td>\n",
       "    </tr>\n",
       "    <tr>\n",
       "      <th>1</th>\n",
       "      <td>2010</td>\n",
       "      <td>{'Positive': 15, 'Negative': 5, 'Neutral': 1}</td>\n",
       "    </tr>\n",
       "    <tr>\n",
       "      <th>2</th>\n",
       "      <td>2011</td>\n",
       "      <td>{'Positive': 164, 'Negative': 50, 'Neutral': 35}</td>\n",
       "    </tr>\n",
       "    <tr>\n",
       "      <th>3</th>\n",
       "      <td>2012</td>\n",
       "      <td>{'Positive': 423, 'Negative': 119, 'Neutral': 80}</td>\n",
       "    </tr>\n",
       "    <tr>\n",
       "      <th>4</th>\n",
       "      <td>2013</td>\n",
       "      <td>{'Positive': 3198, 'Neutral': 1149, 'Negative'...</td>\n",
       "    </tr>\n",
       "    <tr>\n",
       "      <th>5</th>\n",
       "      <td>2014</td>\n",
       "      <td>{'Positive': 12493, 'Neutral': 4701, 'Negative...</td>\n",
       "    </tr>\n",
       "    <tr>\n",
       "      <th>6</th>\n",
       "      <td>2015</td>\n",
       "      <td>{'Positive': 10757, 'Negative': 4426, 'Neutral...</td>\n",
       "    </tr>\n",
       "  </tbody>\n",
       "</table>\n",
       "</div>"
      ],
      "text/plain": [
       "   Year                                 Sentiment Analysis\n",
       "0  2009                                                 {}\n",
       "1  2010      {'Positive': 15, 'Negative': 5, 'Neutral': 1}\n",
       "2  2011   {'Positive': 164, 'Negative': 50, 'Neutral': 35}\n",
       "3  2012  {'Positive': 423, 'Negative': 119, 'Neutral': 80}\n",
       "4  2013  {'Positive': 3198, 'Neutral': 1149, 'Negative'...\n",
       "5  2014  {'Positive': 12493, 'Neutral': 4701, 'Negative...\n",
       "6  2015  {'Positive': 10757, 'Negative': 4426, 'Neutral..."
      ]
     },
     "execution_count": 113,
     "metadata": {},
     "output_type": "execute_result"
    }
   ],
   "source": [
    "results_df"
   ]
  },
  {
   "cell_type": "code",
   "execution_count": null,
   "id": "bc0e5de5",
   "metadata": {},
   "outputs": [],
   "source": []
  }
 ],
 "metadata": {
  "kernelspec": {
   "display_name": "Python 3 (ipykernel)",
   "language": "python",
   "name": "python3"
  },
  "language_info": {
   "codemirror_mode": {
    "name": "ipython",
    "version": 3
   },
   "file_extension": ".py",
   "mimetype": "text/x-python",
   "name": "python",
   "nbconvert_exporter": "python",
   "pygments_lexer": "ipython3",
   "version": "3.11.3"
  }
 },
 "nbformat": 4,
 "nbformat_minor": 5
}
