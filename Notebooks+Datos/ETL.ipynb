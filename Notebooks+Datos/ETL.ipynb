{
 "cells": [
  {
   "cell_type": "code",
   "execution_count": 2,
   "id": "38fe1773",
   "metadata": {},
   "outputs": [],
   "source": [
    "import json\n",
    "import ast\n",
    "import pandas as pd"
   ]
  },
  {
   "cell_type": "code",
   "execution_count": 13,
   "id": "cf1d63d2-310f-4f2c-b884-0f530bbd4a10",
   "metadata": {
    "tags": []
   },
   "outputs": [],
   "source": [
    "fr=open(\"C:/Users/jazmin/AppData/Local/Programs/Python/Python311/Scripts/PIMLOPS/australian_user_reviews.json\", \"r\", encoding=\"utf-8\")\n",
    "fw=open(\"C:/Users/jazmin/AppData/Local/Programs/Python/Python311/Scripts/PIMLOPS/user_reviews.json\", \"w\")\n",
    "\n",
    "for line in fr:\n",
    "    json_dat = json.dumps(ast.literal_eval(line))\n",
    "    dict_dat = json.loads(json_dat)\n",
    "    json.dump(dict_dat, fw)\n",
    "    fw.write(\"\\n\")\n",
    "\n",
    "fw.close()\n",
    "fr.close()"
   ]
  },
  {
   "cell_type": "code",
   "execution_count": 14,
   "id": "dac7903d-b985-4bef-a94c-0be052f45043",
   "metadata": {},
   "outputs": [],
   "source": [
    "input_filename = \"user_reviews.json\"\n",
    "output_filename = \"user_reviews2.json\"\n",
    "\n",
    "with open(input_filename, \"r\") as fr, open(output_filename, \"w\") as fw:\n",
    "    for line in fr:\n",
    "        line = line.strip()\n",
    "        if line.endswith(\"\"):\n",
    "            fw.write(line + \",\\n\")\n",
    "        else:\n",
    "            fw.write(line + \"\\n\")"
   ]
  },
  {
   "cell_type": "code",
   "execution_count": 2,
   "id": "5d096308",
   "metadata": {},
   "outputs": [],
   "source": [
    "df = pd.read_json('user_reviews2.json')\n",
    "df.to_csv('user_reviews.csv')"
   ]
  },
  {
   "cell_type": "code",
   "execution_count": 4,
   "id": "6b0e6ad3-b3a0-40ba-9481-187f0c8dc21c",
   "metadata": {},
   "outputs": [],
   "source": [
    "fr=open(\"C:/Users/jazmin/AppData/Local/Programs/Python/Python311/Scripts/PIMLOPS/australian_users_items.json\", \"r\", encoding=\"utf-8\")\n",
    "fw=open(\"C:/Users/jazmin/AppData/Local/Programs/Python/Python311/Scripts/PIMLOPS/user_items.json\", \"w\")\n",
    "\n",
    "for line in fr:\n",
    "    json_dat = json.dumps(ast.literal_eval(line))\n",
    "    dict_dat = json.loads(json_dat)\n",
    "    json.dump(dict_dat, fw)\n",
    "    fw.write(\"\\n\")\n",
    "\n",
    "fw.close()\n",
    "fr.close()"
   ]
  },
  {
   "cell_type": "code",
   "execution_count": 1,
   "id": "281e9f47-0e2b-44d5-8f34-36465107233d",
   "metadata": {},
   "outputs": [],
   "source": [
    "input_filename = \"user_items.json\"\n",
    "output_filename = \"user_items2.json\"\n",
    "\n",
    "with open(input_filename, \"r\") as fr, open(output_filename, \"w\") as fw:\n",
    "    fw.write(\"[\\n\")\n",
    "    for line in fr:\n",
    "        line = line.strip()\n",
    "        if line.endswith(\",\"):\n",
    "            fw.write(line + \"\\n\")\n",
    "        else:\n",
    "            fw.write(line + \",\\n\")\n",
    "    fw.write(\"]\\n\")"
   ]
  },
  {
   "cell_type": "code",
   "execution_count": 3,
   "id": "dca43e60-f4d4-4f34-bf2d-d8f040d33578",
   "metadata": {},
   "outputs": [],
   "source": [
    "df = pd.read_json(\"user_items2.json\")\n",
    "df.to_csv(\"user_items.csv\")"
   ]
  },
  {
   "cell_type": "code",
   "execution_count": 9,
   "id": "c569cdbe",
   "metadata": {},
   "outputs": [],
   "source": [
    "input_filename = \"output_steam_games.json\"\n",
    "output_filename = \"steam_games.json\"\n",
    "\n",
    "with open(input_filename, \"r\", encoding=\"utf-8\") as fr, open(output_filename, \"w\") as fw:\n",
    "    for line in fr:\n",
    "        line = line.strip()\n",
    "        if line.endswith(\",\"):\n",
    "            fw.write(line + \"\\n\")\n",
    "        else:\n",
    "            fw.write(line + \",\\n\")"
   ]
  },
  {
   "cell_type": "code",
   "execution_count": 11,
   "id": "1b1c88a2",
   "metadata": {},
   "outputs": [],
   "source": [
    "input_file = \"steam_games.json\"\n",
    "output_file = \"steam_games2.json\"\n",
    "\n",
    "with open(input_file, \"r\") as fr, open(output_file, \"w\") as fw:\n",
    "    json_data = fr.read()\n",
    "    cleaned_data = json_data.replace(\"NaN\", \"null\")\n",
    "    fw.write(cleaned_data)"
   ]
  },
  {
   "cell_type": "code",
   "execution_count": 3,
   "id": "23279187",
   "metadata": {},
   "outputs": [],
   "source": [
    "df = pd.read_json(\"steam_games2.json\")\n",
    "df.to_csv(\"steam_games.csv\")"
   ]
  }
 ],
 "metadata": {
  "kernelspec": {
   "display_name": "Python 3 (ipykernel)",
   "language": "python",
   "name": "python3"
  },
  "language_info": {
   "codemirror_mode": {
    "name": "ipython",
    "version": 3
   },
   "file_extension": ".py",
   "mimetype": "text/x-python",
   "name": "python",
   "nbconvert_exporter": "python",
   "pygments_lexer": "ipython3",
   "version": "3.11.3"
  }
 },
 "nbformat": 4,
 "nbformat_minor": 5
}
